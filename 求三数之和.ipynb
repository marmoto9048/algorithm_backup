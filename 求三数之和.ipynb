{
 "cells": [
  {
   "cell_type": "code",
   "execution_count": 3,
   "metadata": {},
   "outputs": [],
   "source": [
    "class Solution:\n",
    "    def threeSum(self, nums):\n",
    "        list_ret = []\n",
    "        d = {} \n",
    "        num = len(nums)\n",
    "        nums.sort()  #县排序\n",
    "        for i in range(num): \n",
    "            if i == 0 or nums[i]>nums[i-1]: #避免出现重复三元组 \n",
    "                l = i+1\n",
    "                r = num-1            \n",
    "                while(l < r):\n",
    "                    s = nums[i] + nums[l] + nums[r]\n",
    "                    if s == 0:                        \n",
    "                        col = [nums[i],nums[l],nums[r]]\n",
    "                        max_e = max(col)\n",
    "                        min_e = min(col)   \n",
    "                        if((max_e,min_e)  not in d):\n",
    "                            list_ret.append(col)                     \n",
    "                            d[(max_e,min_e)] = 1 #字典用来最终避免三元组重复\n",
    "                        r -= 1\n",
    "                        l += 1                   \n",
    "                    elif s > 0:\n",
    "                        r -= 1\n",
    "                    else:\n",
    "                        l += 1\n",
    "\n",
    "        return list_ret\n"
   ]
  }
 ],
 "metadata": {
  "kernelspec": {
   "display_name": "Python 3",
   "language": "python",
   "name": "python3"
  },
  "language_info": {
   "codemirror_mode": {
    "name": "ipython",
    "version": 3
   },
   "file_extension": ".py",
   "mimetype": "text/x-python",
   "name": "python",
   "nbconvert_exporter": "python",
   "pygments_lexer": "ipython3",
   "version": "3.7.1"
  }
 },
 "nbformat": 4,
 "nbformat_minor": 2
}
