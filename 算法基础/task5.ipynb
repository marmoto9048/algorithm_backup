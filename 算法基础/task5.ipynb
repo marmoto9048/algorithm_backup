{
 "cells": [
  {
   "cell_type": "markdown",
   "metadata": {},
   "source": [
    "### 151.翻转字符串里的单词\n",
    "\n",
    "将整个字符串翻转，再将翻转后字符串的每一个单词翻转"
   ]
  },
  {
   "cell_type": "code",
   "execution_count": 6,
   "metadata": {},
   "outputs": [
    {
     "name": "stdout",
     "output_type": "stream",
     "text": [
      "sssss ['example']\n",
      "sssss ['example', 'good']\n",
      "sssss ['example', 'good', 'a']\n"
     ]
    },
    {
     "data": {
      "text/plain": [
       "'example good a'"
      ]
     },
     "execution_count": 6,
     "metadata": {},
     "output_type": "execute_result"
    }
   ],
   "source": [
    "def reverseWords(s):\n",
    "    \"\"\"\n",
    "    :type s: str\n",
    "    :rtype: str\n",
    "    \"\"\"\n",
    "    words = []\n",
    "    for word in s[::-1].split():# 将整个字符串翻转\n",
    "        words.append(word[::-1])  #单个单词翻转\n",
    "        print('sssss',words)\n",
    "    return ' '.join(words)\n",
    "\n",
    "s = \"a good     example    \"\n",
    "reverseWords(s)\n"
   ]
  },
  {
   "cell_type": "code",
   "execution_count": 7,
   "metadata": {},
   "outputs": [
    {
     "data": {
      "text/plain": [
       "'a good     example    '"
      ]
     },
     "execution_count": 7,
     "metadata": {},
     "output_type": "execute_result"
    }
   ],
   "source": [
    "s"
   ]
  },
  {
   "cell_type": "code",
   "execution_count": 11,
   "metadata": {},
   "outputs": [
    {
     "data": {
      "text/plain": [
       "'    elpmaxe     doog a'"
      ]
     },
     "execution_count": 11,
     "metadata": {},
     "output_type": "execute_result"
    }
   ],
   "source": [
    "s[::-1]"
   ]
  },
  {
   "cell_type": "code",
   "execution_count": 10,
   "metadata": {},
   "outputs": [
    {
     "data": {
      "text/plain": [
       "['elpmaxe', 'doog', 'a']"
      ]
     },
     "execution_count": 10,
     "metadata": {},
     "output_type": "execute_result"
    }
   ],
   "source": [
    "s[::-1].split()"
   ]
  },
  {
   "cell_type": "markdown",
   "metadata": {},
   "source": [
    "## 【二叉树】\n",
    "实现一个二叉查找树，并且支持插入、删除、查找操作"
   ]
  },
  {
   "cell_type": "markdown",
   "metadata": {},
   "source": [
    "### 二叉查找树的删除操作分为三种情况：\n",
    "\n",
    "1 如果待删除的节点是叶子节点，那么可以立即被删除，如下图所示：\n",
    "\n",
    "2 如果节点只有一个儿子，则将此节点parent的指针指向此节点的儿子，然后删除节点，如下图所示\n",
    "\n",
    "3 如果节点有两个儿子，则将其右子树的最小数据代替此节点的数据，并将其右子树的最小数据删除，如下图"
   ]
  },
  {
   "cell_type": "code",
   "execution_count": 13,
   "metadata": {},
   "outputs": [
    {
     "data": {
      "text/html": [
       "<img src='2.png'>\n"
      ],
      "text/plain": [
       "<IPython.core.display.HTML object>"
      ]
     },
     "metadata": {},
     "output_type": "display_data"
    }
   ],
   "source": [
    "%%html\n",
    "<img src='2.png'>"
   ]
  },
  {
   "cell_type": "code",
   "execution_count": null,
   "metadata": {},
   "outputs": [],
   "source": [
    "class Node:\n",
    "    def __init__(self,data):   #树节点的定义\n",
    "        self.data = data\n",
    "        self.lchild - None\n",
    "        self.rchild = None\n",
    "    def search(self,node,parent,data):\n",
    "        if node is None：\n",
    "            return False,node,parent\n",
    "        if node.data == data:\n",
    "            return True,node,parent\n",
    "        if node.data > data:\n",
    "            return self.search(node.lchild,node,data)\n",
    "        if node.data < node:\n",
    "            return self.search(node.rchild,node,data)\n",
    "    def insert(self,data):\n",
    "        flag,n,p = self.search(self.root,self.root,data)\n",
    "        if not flag:\n",
    "            new_node = Node(data)\n",
    "            if data > p.data:\n",
    "                p.rchild = new_node\n",
    "            else:\n",
    "                p.lchild = new_node\n",
    "\n",
    "    def delete(self, root, data):\n",
    "        flag, n, p = self.search(root, root, data)\n",
    "        if flag is False:\n",
    "            print( \"无该关键字，删除失败\")\n",
    "        else:           #1 ------------------------如果被删除的节点是根节点\n",
    "            if n.lchild is None:             #如果只有一个孩子，没有左孩子\n",
    "                if n == p.lchild:\n",
    "                    p.lchild = n.rchild     # 则将此节点parent的指针指向此节点的左儿子\n",
    "                else:\n",
    "                    p.rchild = n.rchild    # 则将此节点parent的指针指向此节点的左儿子\n",
    "                del n            #然后删除节点\n",
    "            elif n.rchild is None:# 2 ----------------------没有右孩子\n",
    "                if n == p.lchild:\n",
    "                    p.lchild = n.lchild\n",
    "                else:\n",
    "                    p.rchild = n.lchild\n",
    "                del n\n",
    "            else:  # -3 -----------------------------左右子树均不为空\n",
    "                pre = n.rchild\n",
    "                if pre.lchild is None:\n",
    "                    n.data = pre.data\n",
    "                    n.rchild = pre.rchild\n",
    "                    del pre\n",
    "                else:\n",
    "                    next = pre.lchild\n",
    "                    while next.lchild is not None:\n",
    "                        pre = next\n",
    "                        next = next.lchild\n",
    "                    n.data = next.data\n",
    "                    pre.lchild = next.rchild\n",
    "                    del next\n",
    "                \n",
    "    "
   ]
  },
  {
   "cell_type": "code",
   "execution_count": null,
   "metadata": {},
   "outputs": [],
   "source": []
  },
  {
   "cell_type": "markdown",
   "metadata": {},
   "source": [
    "### 实现查找二叉查找树中某个节点的后继、前驱节点"
   ]
  },
  {
   "cell_type": "code",
   "execution_count": 22,
   "metadata": {
    "scrolled": true
   },
   "outputs": [
    {
     "name": "stdout",
     "output_type": "stream",
     "text": [
      "9\n",
      "y = p[x] 4\n",
      "中序遍历的后继 1\n",
      "中序遍历的后继 0\n",
      "15\n"
     ]
    }
   ],
   "source": [
    "def Tree_Predecessor(x): #------给定一个二叉查找树的节点z，找在中序遍历的前趋\n",
    "    if left[x] != None:\n",
    "        return Tree_Maximum(left[x])\n",
    "    y = p[x]\n",
    "    print('中序遍历的前驱',y)\n",
    "    while y != None and x == left[y]:\n",
    "        x = y\n",
    "        y = p[y]\n",
    "        print('中序遍历的前驱',y)\n",
    "    return\n",
    "\n",
    "def Tree_Maximum(x):#找出以x节点为根的树中的最大关键字元素\n",
    "    if right[x] != None:\n",
    "        return Tree_Maximum(right[x])\n",
    "    return x\n",
    "\n",
    "def Tree_Successor(x):#---------给定一个二叉树中的节点z，找在中序遍历顺序下的后继\n",
    "    if right[x] != None:   #如果左孩子不为零\n",
    "        return Tree_Minimum(right[x])  #输出最小的左孩子\n",
    "    y = p[x]                    #\n",
    "    print('y = p[x]',p[x])\n",
    "    while y != None and x == right[y]:\n",
    "        x = y\n",
    "        y = p[y]\n",
    "        print('中序遍历的后继',y)\n",
    "    return y\n",
    "\n",
    "def Tree_Minimum(x):#找出以x节点为根的树中的最小关键字元素   最小的就是最左边的\n",
    "    while left[x] != None:\n",
    "        return Tree_Minimum(left[x])\n",
    "    return x\n",
    "\n",
    "if __name__ == '__main__':\n",
    "    key = [15,6,18,3,7,17,2,4,9,13,20]#节点\n",
    "    left = [1,3,5,6,None,None,None,None,None,8,None]\n",
    "    right = [2,4,10,7,9,None,None,None,None,None,None]\n",
    "    p = [None,0,0,1,1,2,3,3,9,4,2]\n",
    "    print( key[Tree_Predecessor(9)] )        #输出key[9]=13的前趋和后继\n",
    "    print( key[Tree_Successor(9)])"
   ]
  },
  {
   "cell_type": "code",
   "execution_count": 23,
   "metadata": {},
   "outputs": [
    {
     "name": "stdout",
     "output_type": "stream",
     "text": [
      "[1, 2, 3, 4, 5, 6, 7, 8]\n"
     ]
    }
   ],
   "source": [
    "class Solution:\n",
    "   #从上往下打印出二叉树的每个节点，同层节点从左至右打印\n",
    "    def PrintFromTopToBottom(self, root):\n",
    "        array = []\n",
    "        result = []\n",
    "        if root == None:\n",
    "            return result\n",
    "\n",
    "        array.append(root)\n",
    "        while array:\n",
    "            newNode = array.pop(0)\n",
    "            result.append(newNode.val)\n",
    "            if newNode.left != None:\n",
    "                array.append(newNode.left)\n",
    "            if newNode.right != None:\n",
    "                array.append(newNode.right)\n",
    "        return result\n",
    "\n",
    "    # 给定二叉树的前序遍历和中序遍历，获得该二叉树\n",
    "    def getBSTwithPreTin(self, pre, tin):\n",
    "        if len(pre)==0 | len(tin)==0:\n",
    "            return None\n",
    "\n",
    "        root = treeNode(pre[0])\n",
    "        for order,item in enumerate(tin):\n",
    "            if root .val == item:\n",
    "                root.left = self.getBSTwithPreTin(pre[1:order+1], tin[:order])\n",
    "                root.right = self.getBSTwithPreTin(pre[order+1:], tin[order+1:])\n",
    "                return root\n",
    "\n",
    "class treeNode:\n",
    "    def __init__(self, x):\n",
    "        self.left = None\n",
    "        self.right = None\n",
    "        self.val = x\n",
    "\n",
    "if __name__ == '__main__':\n",
    "    flag = \"printTreeNode\"\n",
    "    solution = Solution()\n",
    "    preorder_seq = [1, 2, 4, 7, 3, 5, 6, 8]\n",
    "    middleorder_seq = [4, 7, 2, 1, 5, 3, 8, 6]\n",
    "    treeRoot1 = solution.getBSTwithPreTin(preorder_seq, middleorder_seq)\n",
    "    if flag == \"printTreeNode\":\n",
    "        newArray = solution.PrintFromTopToBottom(treeRoot1)\n",
    "        print(newArray)\n"
   ]
  },
  {
   "cell_type": "markdown",
   "metadata": {},
   "source": [
    "### 实现二叉树前、中、后序以及按层遍历"
   ]
  },
  {
   "cell_type": "code",
   "execution_count": 8,
   "metadata": {},
   "outputs": [
    {
     "name": "stdout",
     "output_type": "stream",
     "text": [
      "前序： 49\n",
      "前序： 38\n",
      "前序： 13\n",
      "前序： 5\n",
      "前序： 1\n",
      "前序： 27\n",
      "前序： 65\n",
      "前序： 60\n",
      "前序： 97\n",
      "前序： 76\n",
      "中序： 1\n",
      "中序： 5\n",
      "中序： 13\n",
      "中序： 27\n",
      "中序： 38\n",
      "中序： 49\n",
      "中序： 60\n",
      "中序： 65\n",
      "中序： 76\n",
      "中序： 97\n",
      "后序： 1\n",
      "后序： 5\n",
      "后序： 27\n",
      "后序： 13\n",
      "后序： 38\n",
      "后序： 60\n",
      "后序： 76\n",
      "后序： 97\n",
      "后序： 65\n",
      "后序： 49\n"
     ]
    }
   ],
   "source": [
    "\n",
    "class Node:\n",
    "    def __init__(self, data):\n",
    "        self.data = data\n",
    "        self.lchild = None\n",
    "        self.rchild = None\n",
    " \n",
    "class BST:\n",
    "    def __init__(self, node_list):\n",
    "        self.root = Node(node_list[0])\n",
    "        for data in node_list[1:]:\n",
    "            self.insert(data)\n",
    "            \n",
    "    \n",
    "    # 插入\n",
    "    def insert(self, data):\n",
    "        flag, n, p = self.search(self.root, self.root, data)\n",
    "        if not flag:\n",
    "            new_node = Node(data)\n",
    "            if data > p.data:\n",
    "                p.rchild = new_node\n",
    "            else:\n",
    "                p.lchild = new_node\n",
    "    \n",
    "    # 搜索\n",
    "    def search(self, node, parent, data):\n",
    "        if node is None:\n",
    "            return False, node, parent\n",
    "        if node.data == data:\n",
    "            return True, node, parent\n",
    "        if node.data > data:\n",
    "            return self.search(node.lchild, node, data)\n",
    "        else:\n",
    "            return self.search(node.rchild, node, data)\n",
    "        \n",
    "    #前\n",
    "    def preOrderTraverse(self,node):#---------输出node.data的顺序不同，分别前中后\n",
    "        if node is not None:\n",
    "            print('前序：',node.data)\n",
    "            self.preOrderTraverse(node.lchild)\n",
    "            self.preOrderTraverse(node.rchild)\n",
    "\n",
    "    #中\n",
    "    def inOrderTraverse(self,node):\n",
    "        if node is not None:\n",
    "            self.inOrderTraverse(node.lchild)\n",
    "            print('中序：',node.data)\n",
    "            self.inOrderTraverse(node.rchild)\n",
    "    #后\n",
    "    def postOrderTraverse(self,node):\n",
    "        if node is not None:\n",
    "            self.postOrderTraverse(node.lchild)\n",
    "            self.postOrderTraverse(node.rchild)\n",
    "            print('后序：',node.data)\n",
    "        \n",
    "\n",
    "a = [49, 38, 65, 97, 60, 76, 13, 27, 5, 1]\n",
    "bst = BST(a)  # 创建二叉查找树\n",
    "bst.preOrderTraverse(bst.root)  # 中序遍历\n",
    "bst.inOrderTraverse(bst.root) \n",
    "bst.postOrderTraverse(bst.root) "
   ]
  },
  {
   "cell_type": "markdown",
   "metadata": {},
   "source": [
    "## 【堆】\n",
    "实现一个小顶堆、大顶堆、优先级队列"
   ]
  },
  {
   "cell_type": "code",
   "execution_count": 25,
   "metadata": {
    "scrolled": true
   },
   "outputs": [
    {
     "name": "stdout",
     "output_type": "stream",
     "text": [
      "<bound method TopKHeap.topk of <__main__.TopKHeap object at 0x000001EDCD153E80>>\n"
     ]
    }
   ],
   "source": [
    "#小顶堆\n",
    "import sys\n",
    "import heapq\n",
    "\n",
    "class TopKHeap(object):\n",
    "    def __init__(self,k):   #建立堆\n",
    "        self.k = k\n",
    "        self.data = []\n",
    "        \n",
    "    def push(self,elem):\n",
    "        if len(self.data) < self.k:  #当堆的长度小于传入的k长度\n",
    "            heapq.heappush(self.data,elem)  #将元素push进堆里\n",
    "        else:                           #当堆的长度大于k长度\n",
    "            topk_small = self.data[0]   #xmall = 堆顶元素\n",
    "            if elem > topk_small:       #\n",
    "                heapq.heapreplace(self.data,elem)\n",
    "    def topk(self):\n",
    "        return [x for x in reversed([heapq.heappop(self.data) for x in xrange(len(self.data))])]\n",
    "\n",
    "def main():\n",
    "    list_num = [1, 2, 3, 4, 5, 6, 7, 8, 9]\n",
    "    th = TopKHeap(5)\n",
    "    \n",
    "    for i in list_num:\n",
    "        th.push(i)\n",
    "    \n",
    "    print(th.topk)\n",
    "    \n",
    "if __name__ == \"__main__\":\n",
    "    main()\n",
    "\n"
   ]
  },
  {
   "cell_type": "code",
   "execution_count": 26,
   "metadata": {},
   "outputs": [],
   "source": [
    "#大顶堆\n",
    "算法步骤：\n",
    "\n",
    "1. 创建一个堆H[0..n-1]\n",
    "\n",
    "2. 把堆首（最大值）和堆尾互换\n",
    "\n",
    "3. 把堆的尺寸缩小1，并调用shift_down(0),目的是把新的数组顶端数据调整到相应位置\n",
    "\n",
    "4. 重复步骤2，直到堆的尺寸为1"
   ]
  },
  {
   "cell_type": "code",
   "execution_count": 1,
   "metadata": {},
   "outputs": [
    {
     "data": {
      "text/html": [
       "<img src='3.png'>\n"
      ],
      "text/plain": [
       "<IPython.core.display.HTML object>"
      ]
     },
     "metadata": {},
     "output_type": "display_data"
    }
   ],
   "source": [
    "%%html\n",
    "<img src='3.png'>"
   ]
  },
  {
   "cell_type": "code",
   "execution_count": 2,
   "metadata": {},
   "outputs": [
    {
     "data": {
      "text/html": [
       "<img src='4.png'>\n"
      ],
      "text/plain": [
       "<IPython.core.display.HTML object>"
      ]
     },
     "metadata": {},
     "output_type": "display_data"
    }
   ],
   "source": [
    "%%html\n",
    "<img src='4.png'>"
   ]
  },
  {
   "cell_type": "markdown",
   "metadata": {},
   "source": [
    "### 实际中我们进行堆排序是为了取得一定条件下的最大值或最小值，\n",
    "例如：\n",
    "    需要在100个数中找到10个最大值，因此我们定义一个大小为10的堆，\n",
    "    \n",
    "    把100中的前十个数据建立成小顶堆（堆顶最小），\n",
    "    \n",
    "    然后从100个数据中的第11个数据开始与堆顶比较，\n",
    "    \n",
    "    若堆顶小于当前数据，则把堆顶弹出，把当前数据压入堆顶，\n",
    "    \n",
    "    然后把数据从堆顶下移到一定位置即可\n"
   ]
  },
  {
   "cell_type": "code",
   "execution_count": 32,
   "metadata": {},
   "outputs": [
    {
     "name": "stdout",
     "output_type": "stream",
     "text": [
      "1 left: 2\n",
      "2 left: 4\n",
      "2 right: 5\n",
      "1 right: 3\n",
      "3 left: 6\n",
      "1\n",
      "2\n",
      "3\n",
      "4\n",
      "5\n",
      "6\n"
     ]
    }
   ],
   "source": [
    "\n",
    "class HeapTree(object):\n",
    "    leftChild = None\n",
    "    rightChild = None\n",
    "    value = None\n",
    "    # 排好顺序的节点设置不可访问\n",
    "    visitable = True\n",
    " \n",
    "    def __init__(self,value):\n",
    "        self.value = value\n",
    " \n",
    "    # 获取当前节点顶部的 n 个子节点，先左后右\n",
    "    def getTopNodeList(self,n):\n",
    "        if n < 0:\n",
    "            return\n",
    "        p = self\n",
    "        pointList = []\n",
    "        left = True\n",
    "        for i in range(n):\n",
    "            if not isinstance(p,HeapTree):\n",
    "                break\n",
    "            print( p.value)\n",
    "            pointList.append(p.leftChild)\n",
    "            pointList.append(p.rightChild)\n",
    "            p = pointList[0]\n",
    "            pointList.remove(p)\n",
    "    \n",
    " \n",
    "    # 获取最后一个节点\n",
    "    def getLastNode(self):\n",
    "        \n",
    "        pointList = [self]\n",
    "        index = 0\n",
    " \n",
    "        while index < len(pointList):\n",
    "            left = pointList[index].leftChild\n",
    "            right = pointList[index].rightChild\n",
    "            if left and left.visitable:\n",
    "                pointList.append(left)\n",
    "            if right and right.visitable:\n",
    "                pointList.append(right)\n",
    "            index += 1\n",
    "        lastNode = pointList[-1]\n",
    "        \n",
    "        return lastNode\n",
    "            \n",
    " \n",
    " \n",
    "    # 展示结构\n",
    "    def show(self):\n",
    "        self._show(self,self.leftChild,\"left\")\n",
    "        self._show(self,self.rightChild,\"right\")\n",
    "        \n",
    "        \n",
    "    def _show(self,parent,child,desc=\"\"):\n",
    "        if isinstance(child,HeapTree):\n",
    "            print( \"%s %s: %s\" % (parent.value,desc,child.value) )\n",
    "            child.show()\n",
    " \n",
    " \n",
    "    # 堆排序\n",
    "    def sort(self):\n",
    " \n",
    "        self._sort()\n",
    "        while True:\n",
    "            lastNode = self.getLastNode()\n",
    "            lastNode.visitable = False\n",
    "            if lastNode == self:\n",
    "                return\n",
    "            self._swap(lastNode,self)\n",
    " \n",
    " \n",
    "    # 获得初始堆,排序逻辑\n",
    "    def _sort(self):\n",
    "        if  isinstance(self.leftChild,HeapTree):\n",
    "            if not self.leftChild.visitable:\n",
    "                return\n",
    "            self.leftChild._sort()\n",
    "            self._swap(self,self.leftChild)\n",
    " \n",
    "        if isinstance(self.rightChild,HeapTree):\n",
    "            if not self.rightChild.visitable:\n",
    "                return\n",
    "            self.rightChild._sort()\n",
    "            self._swap(self,self.rightChild)\n",
    " \n",
    " \n",
    " \n",
    "    # 交换父子节点的值\n",
    "    def _swap(self,parent,child):\n",
    "        if parent.value < child.value:\n",
    "            temp = parent.value\n",
    "            parent.value = child.value\n",
    "            child.value = temp\n",
    " \n",
    "            # 父子节点的值交换后，重新调整子节点结构\n",
    "            child._sort()\n",
    " \n",
    "            \n",
    "        \n",
    "class TreeManager(object):\n",
    "    def __init__(self,data):\n",
    "        self.data = data\n",
    " \n",
    "    # 创建顶堆树\n",
    "    def bulidHeapTree(self):\n",
    "        root = HeapTree(self.data[0])\n",
    "        p = root\n",
    "        pointList = []\n",
    "        left = True\n",
    "        for i in self.data[1:]:\n",
    "            if left:\n",
    "                p.leftChild = HeapTree(i)\n",
    "                pointList.append(p.leftChild)\n",
    "            else:\n",
    "                p.rightChild = HeapTree(i)\n",
    "                pointList.append(p.rightChild)\n",
    "                p = pointList[0]\n",
    "                pointList.remove(p)\n",
    "            left = not left\n",
    "        self.heapTree = root\n",
    " \n",
    "    def show(self):\n",
    "        self.heapTree.show()\n",
    " \n",
    " \n",
    " \n",
    " \n",
    "if __name__ == '__main__':\n",
    "    a = [2,3,4,1,5,6]\n",
    "    m = TreeManager(a)\n",
    "    m.bulidHeapTree()\n",
    "    h = m.heapTree\n",
    "    h.sort()\n",
    "    h.show()\n",
    "    h.getTopNodeList(8)\n"
   ]
  },
  {
   "cell_type": "markdown",
   "metadata": {},
   "source": [
    "### 实现堆排序"
   ]
  },
  {
   "cell_type": "code",
   "execution_count": 26,
   "metadata": {},
   "outputs": [
    {
     "data": {
      "text/html": [
       "<img src=\"heapSort.gif\" >\n"
      ],
      "text/plain": [
       "<IPython.core.display.HTML object>"
      ]
     },
     "metadata": {},
     "output_type": "display_data"
    }
   ],
   "source": [
    "%%html\n",
    "<img src=\"heapSort.gif\" >"
   ]
  },
  {
   "cell_type": "code",
   "execution_count": 27,
   "metadata": {},
   "outputs": [],
   "source": [
    "def adjust(arr, low, high):\n",
    "    # 向下调整k位置上的结点\n",
    "    i = low; j = 2*i;\n",
    "    temp = arr[low]\n",
    "    while i <= j and j < high:\n",
    "        if arr[j] < arr[j+1]:         # 将左右结点中最大的结点当做arr[j]\n",
    "            j += 1\n",
    "        if arr[j] > temp:\n",
    "            arr[i] = arr[j]\n",
    "            i = j; j = 2*i            # 循环做对下一个根结点的调整\n",
    "        else:\n",
    "            break\n",
    "    arr[i] = temp       # 存于最终位置\n",
    "    \n",
    "def heapSort(arr):\n",
    "    length = len(arr)\n",
    "    for i in range(length//2,-1,-1):    # 建堆\n",
    "        adjust(arr, i ,length-1)\n",
    "        \n",
    "    # 将根结点与每一趟的最后一个结点交换,再调整\n",
    "    for index in range(length-1, -1, -1):    \n",
    "        arr[index], arr[0] = arr[0], arr[index]   # 该趟最大值已到最终位置\n",
    "        adjust(arr, 0, index-1)                  # 新一轮的调整"
   ]
  },
  {
   "cell_type": "markdown",
   "metadata": {},
   "source": [
    "### 利用优先级队列合并 K 个有序数组"
   ]
  },
  {
   "cell_type": "markdown",
   "metadata": {},
   "source": [
    "### 主要使用了heapq.merge函数，这个函数的输入是可迭代对象。\n",
    "\n",
    "接下来将这3个元素存入堆中，使用了heapify函数，类似于我们前面的buildheap函数。\n",
    "但这里是小根堆呀，所以输出根节点2；\n",
    "\n",
    "将根节点2对应的下一个元素插入堆的根位置，找呀找，是4；根据小根堆性质，输出根节点3；\n",
    "\n",
    "将根节点3对应的下一个元素插入堆的根位置是6；根据小根堆性质，输出根节点4；\n",
    "\n",
    "将根节点4对应的下一个元素插入堆的根位置是7；根据小根堆性质，输出根节点5；\n",
    "\n",
    "将根节点5对应的下一个元素插入堆的根位置是10；根据小根堆性质，输出根节点6；\n",
    "\n",
    "将根节点6对应的下一个元素插入堆的根位置是11；根据小根堆性质，输出根节点7；\n"
   ]
  },
  {
   "cell_type": "code",
   "execution_count": 59,
   "metadata": {},
   "outputs": [
    {
     "name": "stdout",
     "output_type": "stream",
     "text": [
      "0:[5, 10, 13, 17]\n",
      "1:[2, 4, 7, 8]\n",
      "2:[3, 6, 11, 15]\n",
      "\n",
      "Merged:\n",
      "2 3 4 5 6 7 8 10 11 13 15 17 \n"
     ]
    }
   ],
   "source": [
    "from __future__ import print_function\n",
    "import heapq\n",
    "import random\n",
    "\n",
    "data = [[5, 10, 13, 17], [2, 4, 7, 8], [3, 6, 11, 15]]\n",
    "\n",
    "for i,d in enumerate(data):\n",
    "    print('{}:{}'.format(i,d))\n",
    "    \n",
    "print('\\nMerged:')\n",
    "for i in heapq.merge(*data):\n",
    "    print(i,end=' ')\n",
    "print()\n"
   ]
  },
  {
   "cell_type": "markdown",
   "metadata": {},
   "source": [
    "### 求一组动态数据集合的最大 Top K"
   ]
  },
  {
   "cell_type": "code",
   "execution_count": 62,
   "metadata": {},
   "outputs": [
    {
     "name": "stdout",
     "output_type": "stream",
     "text": [
      "Collecting heap\n"
     ]
    },
    {
     "name": "stderr",
     "output_type": "stream",
     "text": [
      "  Could not find a version that satisfies the requirement heap (from versions: )\n",
      "No matching distribution found for heap\n"
     ]
    }
   ],
   "source": [
    "!pip install heap"
   ]
  },
  {
   "cell_type": "code",
   "execution_count": 71,
   "metadata": {},
   "outputs": [
    {
     "data": {
      "text/plain": [
       "[17, 15, 13]"
      ]
     },
     "execution_count": 71,
     "metadata": {},
     "output_type": "execute_result"
    }
   ],
   "source": [
    "# 利用大顶堆结构求出数组中的top K个值\n",
    "\n",
    "# 大顶堆\n",
    "def biggerAdjust(arr, low, high):\n",
    "    # 向下调整arr数组low位置上的元素\n",
    "    temp = arr[low]\n",
    "    i = low; j = 2 * i\n",
    "    while i <= j and j < high:\n",
    "        if arr[j] < arr[j+1]:\n",
    "            j += 1\n",
    "        if temp < arr[j]:\n",
    "            arr[i] = arr[j]\n",
    "            i = j; j = 2 * i\n",
    "        else:\n",
    "            break\n",
    "    arr[i] = temp\n",
    "        \n",
    "def topK(arr, k):\n",
    "    length = len(arr)\n",
    "    for i in range(length//2,-1,-1):    # 初始堆\n",
    "        biggerAdjust(arr, i, length-1)\n",
    "    re, end = [], length-1\n",
    "    for i in range(k):\n",
    "        re.append(arr[0])\n",
    "        arr[0] = arr[end]\n",
    "        end -= 1\n",
    "        biggerAdjust(arr, 0, end)\n",
    "    return re\n",
    "arr = [2 ,3, 4, 5, 6, 7, 8, 10, 11, 13, 15, 17 ]\n",
    "topK(arr, k)"
   ]
  },
  {
   "cell_type": "code",
   "execution_count": 75,
   "metadata": {},
   "outputs": [
    {
     "data": {
      "text/plain": [
       "[17, 15, 13]"
      ]
     },
     "execution_count": 75,
     "metadata": {},
     "output_type": "execute_result"
    }
   ],
   "source": [
    "def biggerAdjust(arr, low, high):\n",
    "    temp = arr[low]\n",
    "    i = low\n",
    "    j = 2 * i   #当j全走完的时候i正好走到一半\n",
    "    while i <= j and j < high: #当j在队列里走的飞快的时候：\n",
    "        if arr[j] < arr[j+1]: #当下一位比j所在的数值要大：\n",
    "            j += 1\n",
    "        if temp < arr[j]:\n",
    "            arr[i] = arr[j]\n",
    "            i = j\n",
    "            j = 2 * i\n",
    "        else:\n",
    "            break\n",
    "    arr[i] = temp\n",
    "def topK(arr,k):\n",
    "    length = len(arr)\n",
    "    for i in range(length//2,-1,-1):\n",
    "        biggerAdjust(arr,i,length-1)\n",
    "    re,end = [],length-1\n",
    "    for i in range(k):\n",
    "        re.append(arr[0])\n",
    "        arr[0] = arr[end]\n",
    "        end -= 1\n",
    "        biggerAdjust(arr,0,end)\n",
    "    return re\n",
    "arr = [2 ,3, 4, 5, 6, 7, 8, 10, 11, 13, 15, 17 ]\n",
    "topK(arr, k)        \n",
    "    \n",
    "        \n",
    "        "
   ]
  },
  {
   "cell_type": "code",
   "execution_count": null,
   "metadata": {},
   "outputs": [],
   "source": []
  }
 ],
 "metadata": {
  "kernelspec": {
   "display_name": "Python 3",
   "language": "python",
   "name": "python3"
  },
  "language_info": {
   "codemirror_mode": {
    "name": "ipython",
    "version": 3
   },
   "file_extension": ".py",
   "mimetype": "text/x-python",
   "name": "python",
   "nbconvert_exporter": "python",
   "pygments_lexer": "ipython3",
   "version": "3.7.1"
  }
 },
 "nbformat": 4,
 "nbformat_minor": 2
}
