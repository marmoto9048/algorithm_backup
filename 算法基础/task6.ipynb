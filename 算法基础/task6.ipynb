{
 "cells": [
  {
   "cell_type": "markdown",
   "metadata": {},
   "source": [
    "### Task 6：图"
   ]
  },
  {
   "cell_type": "markdown",
   "metadata": {},
   "source": [
    "### 【图】\n",
    "实现有向图、无向图、有权图、无权图的邻接矩阵和邻接表表示方法"
   ]
  },
  {
   "cell_type": "code",
   "execution_count": 59,
   "metadata": {},
   "outputs": [
    {
     "name": "stdout",
     "output_type": "stream",
     "text": [
      "[(0, 4), (2, 6)]\n",
      "[[(2, 3)], [(0, 4), (1, 16), (2, 6)], [(1, 8), (2, 9)]]\n"
     ]
    }
   ],
   "source": [
    "#1       用邻接矩阵表示有权图\n",
    "class GraphError(ValueError):\n",
    "    pass\n",
    "\n",
    "\n",
    "class Graph:\n",
    "    def __init__(self, mat, unconn=0):\n",
    "        vnum = len(mat)\n",
    "        for x in mat:\n",
    "            if len(x) != vnum:  # 检查是否为方阵\n",
    "                raise ValueError('Argument for Graph')\n",
    "        self.mat = [mat[i][:] for i in range(vnum)]\n",
    "        self.unconn = unconn\n",
    "        self.vnum = vnum\n",
    "\n",
    "    def vertex_num(self):\n",
    "        return self.vnum\n",
    "\n",
    "    def invalid(self, v):\n",
    "        return 0 > v or v >= self.vnum\n",
    "\n",
    "    def add_edge(self, vi, vj, val=1):  #添加边\n",
    "        if self.invalid(vi) or self.invalid(vj):\n",
    "            raise GraphError(str(vi) + 'or' + str(vj) + 'is not a valid vertex')\n",
    "        self.mat[vi][vj] = val\n",
    "\n",
    "    def get_edge(self, vi, vj):\n",
    "        if self.invalid(vi) or self.invalid(vj):\n",
    "            raise GraphError(str(vi) + 'or' + str(vj) + 'is not a valid vertex')\n",
    "        return self.mat[vi][vj]\n",
    "\n",
    "    # 返回每个顶点的出边的终点位置，和这条出边上的权值\n",
    "    def out_edges(self, vi):\n",
    "        if self.invalid(vi):\n",
    "            raise GraphError(str(vi) + 'is not a valid vertex')\n",
    "        return self._out_edges(self.mat[vi], self.unconn)\n",
    "\n",
    "    @staticmethod\n",
    "    def _out_edges(row, unconn):\n",
    "        edges = []\n",
    "        for i in range(len(row)):\n",
    "            if row[i] != unconn:  # 当前行中不等于0的位置\n",
    "                edges.append((i, row[i]))\n",
    "        return edges\n",
    "\n",
    "    #2  用邻接表\n",
    "class GraphAL(Graph):\n",
    "    def __init__(self, mat1=[], unconn=0):\n",
    "        vnum = len(mat1)\n",
    "        for x in mat1:\n",
    "            if len(x) != vnum:\n",
    "                raise ValueError('Argument for Graph')\n",
    "        self.mat = [Graph._out_edges(mat1[i], unconn) for i in range(vnum)]\n",
    "        self.unconn = unconn\n",
    "        self.vnum = vnum\n",
    "\n",
    "    def add_vertex(self):\n",
    "        self.mat.append([])\n",
    "        self.vnum += 1\n",
    "        return self.vnum - 1\n",
    "\n",
    "    def add_edge(self, vi, vj, val=1):\n",
    "        if self.vnum == 0:\n",
    "            raise GraphError('can not add edge to empty graph')\n",
    "        if self.invalid(vi) or self.invalid(vj):\n",
    "            raise GraphError(str(vi) + 'or' + str(vj) + 'is not a valid vertex')\n",
    "        row = self.mat[vi]  # row是mat中的某一行。例如[(0,4),(2,6)]\n",
    "        i = 0\n",
    "        while i < len(row):\n",
    "            if row[i][0] == vj:  # 如果原来存在vi到vj的边，找出与终点vj相同的终点在第几个元组中\n",
    "                self.mat[vi][i] = (vj, val)\n",
    "                return\n",
    "            if row[i][0] > vj:  # 原来不存在vi到vj的边。因为边表中是按递增的顺序添加的，\n",
    "                break  # 假设vj=2，但是当前已经遍历到了(3,1)，说明没有终点为2的这条边\n",
    "            i += 1\n",
    "        self.mat[vi].insert(i, (vj, val))\n",
    "\n",
    "    def get_edge(self, vi, vj):\n",
    "        if self.invalid(vi) or self.invalid(vj):\n",
    "            raise GraphError(str(vi) + 'or' + str(vj) + 'is not a valid vertex')\n",
    "        for i, val in self.mat[vi]:\n",
    "            if i == vj:\n",
    "                return val\n",
    "        return self.unconn\n",
    "\n",
    "    def out_edges(self, vi):\n",
    "        if self.invalid(vi):\n",
    "            raise GraphError(str(vi) + 'is not a valid vertex')\n",
    "        return self.mat[vi]\n",
    "\n",
    "\n",
    "if __name__ == \"__main__\":\n",
    "    mat = [[0, 0, 3],\n",
    "           [4, 0, 6],\n",
    "           [0, 8, 9]]\n",
    "    g = Graph(mat)\n",
    "    print(g.out_edges(1))  # [(0, 4), (2, 6)]\n",
    "\n",
    "    g1 = GraphAL(mat)\n",
    "    g1.add_edge(1, 1, 16)\n",
    "    print(g1.mat)  # [[(2, 3)], [(0, 4), (1, 16), (2, 6)], [(1, 8), (2, 9)]]\n",
    "\n"
   ]
  },
  {
   "cell_type": "code",
   "execution_count": 33,
   "metadata": {},
   "outputs": [
    {
     "data": {
      "text/html": [
       "<img src='5.png'>\n"
      ],
      "text/plain": [
       "<IPython.core.display.HTML object>"
      ]
     },
     "metadata": {},
     "output_type": "display_data"
    }
   ],
   "source": [
    "%%html\n",
    "<img src='5.png'>"
   ]
  },
  {
   "cell_type": "code",
   "execution_count": 45,
   "metadata": {},
   "outputs": [
    {
     "name": "stdout",
     "output_type": "stream",
     "text": [
      "g.out_edges [(0, 4), (2, 6)]\n",
      "g1.mat:  [[(2, 3)], [(0, 4), (1, 16), (2, 6)], [(1, 8), (2, 9)]]\n"
     ]
    }
   ],
   "source": [
    "#2         用邻接表及其实现的图类\n",
    "class GraphAL(Graph):\n",
    "    def __init__(self, mat1=[], unconn=0):\n",
    "        vnum = len(mat1)\n",
    "        for x in mat1:\n",
    "            if len(x) != vnum:\n",
    "                raise ValueError('Argument for Graph')\n",
    "        self.mat = [Graph._out_edges(mat1[i], unconn) for i in range(vnum)]\n",
    "        self.unconn = unconn\n",
    "        self.vnum = vnum\n",
    "\n",
    "    def add_vertex(self):\n",
    "        self.mat.append([])\n",
    "        self.vnum += 1\n",
    "        return self.vnum - 1\n",
    "\n",
    "    def add_edge(self, vi, vj, val=1):\n",
    "        if self.vnum == 0:\n",
    "            raise GraphError('can not add edge to empty graph')\n",
    "        if self.invalid(vi) or self.invalid(vj):\n",
    "            raise GraphError(str(vi) + 'or' + str(vj) + 'is not a valid vertex')\n",
    "        row = self.mat[vi]  # row是mat中的某一行。例如[(0,4),(2,6)]\n",
    "        i = 0\n",
    "        while i < len(row):\n",
    "            if row[i][0] == vj:  # 如果原来存在vi到vj的边，找出与终点vj相同的终点在第几个元组中\n",
    "                self.mat[vi][i] = (vj, val)\n",
    "                return\n",
    "            if row[i][0] > vj:  # 原来不存在vi到vj的边。因为边表中是按递增的顺序添加的，\n",
    "                break  # 假设vj=2，但是当前已经遍历到了(3,1)，说明没有终点为2的这条边\n",
    "            i += 1\n",
    "        self.mat[vi].insert(i, (vj, val))\n",
    "\n",
    "    def get_edge(self, vi, vj):\n",
    "        if self.invalid(vi) or self.invalid(vj):\n",
    "            raise GraphError(str(vi) + 'or' + str(vj) + 'is not a valid vertex')\n",
    "        for i, val in self.mat[vi]:\n",
    "            if i == vj:\n",
    "                return val\n",
    "        return self.unconn\n",
    "\n",
    "    def out_edges(self, vi):\n",
    "        if self.invalid(vi):\n",
    "            raise GraphError(str(vi) + 'is not a valid vertex')\n",
    "        return self.mat[vi]\n",
    "\n",
    "\n",
    "if __name__ == \"__main__\":\n",
    "    mat = [[0, 0, 3],\n",
    "           [4, 0, 6],\n",
    "           [0, 8, 9]]\n",
    "    g = Graph(mat)\n",
    "    print('g.out_edges',g.out_edges(1))  # [(0, 4), (2, 6)]\n",
    "\n",
    "    g1 = GraphAL(mat)\n",
    "    g1.add_edge(1, 1, 16)\n",
    "    print('g1.mat: ',g1.mat)  # [[(2, 3)], [(0, 4), (1, 16), (2, 6)], [(1, 8), (2, 9)]]\n"
   ]
  },
  {
   "cell_type": "code",
   "execution_count": 52,
   "metadata": {},
   "outputs": [
    {
     "name": "stdout",
     "output_type": "stream",
     "text": [
      "Using matplotlib backend: Qt5Agg\n"
     ]
    }
   ],
   "source": [
    "#邻接表和邻接矩阵  \n",
    "#邻接矩阵生成图：：\n",
    "%matplotlib\n",
    "import networkx as nx\n",
    "import matplotlib.pyplot as plt\n",
    "import numpy as np\n",
    "'''\n",
    "G = nx.Graph()# 无         多重边        无向图\n",
    "G = nx.DiGraph()# 无       多重边       有向图\n",
    "G = nx.MultiGraph()# 有     多重边      无向图\n",
    "G = nx.MultiDiGraph()# 有 多重边        有向图.\n",
    "'''\n",
    "G = nx.Graph()\n",
    "G.add_edges_from([(1, 2), (1, 3), (1, 4), (1, 5), (4, 5), (4, 6), (5, 6)])\n",
    "\n",
    "pos = nx.spring_layout(G)\n",
    "#nx.draw_networkx_nodes(G, pos, node_color=colors)\n",
    "nx.draw(G,pos = nx.random_layout(G),with_labels = True)\n",
    "plt.show()"
   ]
  },
  {
   "cell_type": "markdown",
   "metadata": {},
   "source": [
    "### 实现图的深度优先搜索、广度优先搜索"
   ]
  },
  {
   "cell_type": "code",
   "execution_count": null,
   "metadata": {},
   "outputs": [],
   "source": [
    "def BFS(graph,s):\n",
    "    queue = []\n",
    "    queue.append(s)\n",
    "    seen = set() #哈希set\n",
    "    seen.add(s)\n",
    "    parent = {s:None}\n",
    "    parent[w] = v#表示w的前一个点是v\n",
    "    while(len(queue)>0):\n",
    "        vertex = queue.pop(0)\n",
    "        \n",
    "        nodes = grapg[vertex]\n",
    "        for w in nodes:\n",
    "            if w not in seen:\n",
    "                queue.append(w)\n",
    "                seen.add(w)\n",
    "                parent[w] = vertex\n",
    "        print(vertex)\n",
    "    return parent\n",
    "\n",
    "def DFS(graph,s):\n",
    "    srack =[]\n",
    "    seen = set()\n",
    "    seen.add(s)\n",
    "    while(len(stack)>0):\n",
    "        vertex = stack.pop()\n",
    "        nodes = graphs[vertex]\n",
    "        for w in nodes:\n",
    "            if w not in seen:\n",
    "                stack.append(w)\n",
    "                seen.add(w)\n",
    "        print(vertex)\n",
    "\n",
    "        \n",
    "graph = [[0, 0, 3],\n",
    "       [4, 0, 6],\n",
    "       [0, 8, 9]]\n",
    "s = \n",
    "BFS(graph,s)\n",
    "DFS(graph,s)"
   ]
  },
  {
   "cell_type": "markdown",
   "metadata": {},
   "source": [
    "### 实现 Dijkstra 算法、A* 算法"
   ]
  },
  {
   "cell_type": "code",
   "execution_count": null,
   "metadata": {},
   "outputs": [],
   "source": [
    "https://blog.csdn.net/zuyuhuo6777/article/details/89446203"
   ]
  },
  {
   "cell_type": "markdown",
   "metadata": {},
   "source": [
    "### 迪科斯彻算法使用了广度优先搜索解决赋权有向图或者无向图的单源最短路径问题，算法最终得到一个最短路径树。该算法常用于路由算法或者作为其他图算法的一个子模块。"
   ]
  },
  {
   "cell_type": "code",
   "execution_count": null,
   "metadata": {},
   "outputs": [],
   "source": [
    "def dijkstra(graph,s):\n",
    "    pqueue=[]\n",
    "    heapq.heappush(pqueue,(0,s))\n",
    "    seen = set()\n",
    "    \n",
    "    parent={s:None}\n",
    "           \n",
    "    distant = init_distance(graph,s)#距离起点的距离\n",
    "    while (len(pqueue)>0):\n",
    "        qaie=heapq.heappop(pqueue)\n",
    "        dist=pair[0]\n",
    "        vertex=pair[1]\n",
    "        seen.add(vertex)\n",
    "        nodes = grapg[vertex].keys()\n",
    "        \n",
    "        for w in nodes:\n",
    "            if w not in seen:\n",
    "                if dist_grapg[vertex][w]<distance[w]:\n",
    "                    heapq.heappush(queue,(dist+graph[vertex][w],w))\n",
    "                    parent[w]=vertex\n",
    "                    distance[w]=dist+graph[vertex][w]\n",
    "        return parent,distance\n",
    "                \n",
    "                "
   ]
  },
  {
   "cell_type": "code",
   "execution_count": null,
   "metadata": {},
   "outputs": [],
   "source": []
  },
  {
   "cell_type": "code",
   "execution_count": null,
   "metadata": {},
   "outputs": [],
   "source": []
  },
  {
   "cell_type": "markdown",
   "metadata": {},
   "source": [
    "### 实现拓扑排序的 Kahn 算法、DFS 算法"
   ]
  },
  {
   "cell_type": "code",
   "execution_count": null,
   "metadata": {},
   "outputs": [],
   "source": []
  },
  {
   "cell_type": "code",
   "execution_count": null,
   "metadata": {},
   "outputs": [],
   "source": []
  },
  {
   "cell_type": "code",
   "execution_count": null,
   "metadata": {},
   "outputs": [],
   "source": []
  },
  {
   "cell_type": "code",
   "execution_count": null,
   "metadata": {},
   "outputs": [],
   "source": []
  },
  {
   "cell_type": "code",
   "execution_count": null,
   "metadata": {},
   "outputs": [],
   "source": []
  },
  {
   "cell_type": "code",
   "execution_count": null,
   "metadata": {},
   "outputs": [],
   "source": []
  }
 ],
 "metadata": {
  "kernelspec": {
   "display_name": "Python 3",
   "language": "python",
   "name": "python3"
  },
  "language_info": {
   "codemirror_mode": {
    "name": "ipython",
    "version": 3
   },
   "file_extension": ".py",
   "mimetype": "text/x-python",
   "name": "python",
   "nbconvert_exporter": "python",
   "pygments_lexer": "ipython3",
   "version": "3.7.1"
  }
 },
 "nbformat": 4,
 "nbformat_minor": 2
}
