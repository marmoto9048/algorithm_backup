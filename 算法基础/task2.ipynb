{
 "cells": [
  {
   "cell_type": "markdown",
   "metadata": {},
   "source": [
    "### 用数组实现一个顺序栈"
   ]
  },
  {
   "cell_type": "code",
   "execution_count": 16,
   "metadata": {},
   "outputs": [
    {
     "name": "stdout",
     "output_type": "stream",
     "text": [
      "4\n",
      "3\n",
      "3\n"
     ]
    }
   ],
   "source": [
    "\n",
    "class Stack(object):\n",
    "    def __init__(self):\n",
    "        self.stack = []\n",
    "\n",
    "    def push(self, item):\n",
    "        \"\"\"添加一个新的元素item到栈顶\"\"\"\n",
    "        self.stack.append(item)\n",
    "\n",
    "    def pop(self):\n",
    "        \"\"\"弹出栈顶元素\"\"\"\n",
    "        return self.stack.pop()\n",
    "\n",
    "    def is_empty(self):\n",
    "        \"\"\"判断栈是否为空\"\"\"\n",
    "        return self.stack == []\n",
    "\n",
    "    def peek(self):\n",
    "        \"\"\"返回栈顶元素\"\"\"\n",
    "        if self.is_empty():\n",
    "            return None\n",
    "\n",
    "        return self.stack[-1]\n",
    "\n",
    "    def size(self):\n",
    "        \"\"\"返回栈的元素个数\"\"\"\n",
    "        return len(self.stack)\n",
    " \n",
    " \n",
    "if __name__ == '__main__':\n",
    "    st = Stack()\n",
    "    st.push(1)\n",
    "    st.push(2)\n",
    "    st.push(3)\n",
    "    st.push(4)\n",
    "    print(st.pop())\n",
    "    print(st.peek())\n",
    "    print(st.pop())\n"
   ]
  },
  {
   "cell_type": "markdown",
   "metadata": {},
   "source": [
    "### 用链表实现一个链式栈\n",
    "用单向链表实现元素进栈大概分为以下几个步骤；\n",
    "\n",
    "1 创建节点\n",
    "\n",
    "2 用链表的头部插入/删除元素\n",
    "\n",
    "3 元素进栈"
   ]
  },
  {
   "cell_type": "code",
   "execution_count": null,
   "metadata": {},
   "outputs": [],
   "source": [
    "class LinkedStack:\n",
    "    \n",
    "    # 创建节点\n",
    "    class _Node:\n",
    "        __slot__='_element','_next'\n",
    "        \n",
    "        def __init__(self,element,next):\n",
    "            self._element = element\n",
    "            self._next = next               #创建节点的函数\n",
    "        \n",
    "    # 设置栈顶     \n",
    "    def __init__(self):\n",
    "        self._head =None      #只有在链表头部才能实现常数时间内的有效插入和删除元素。\n",
    "        self._size = 0       #为避免每次返回栈的大小时，必须遍历整个列表，\n",
    "                               #因此定义一个变量 _size 持续追踪当前元素的数量\n",
    "        \n",
    "    # 元素压栈      当栈顶插入新元素时，调用 _Node 类来完成链接结构的改变。\n",
    "    def push(self,e):\n",
    "        self._head = self._Node(e,self._head)\n",
    "        self._size += 1          #每一个新元素进栈，将其赋予 _Node 类创建一个新节点，\n",
    "                     #新节点的 _next 指针被设置为前一个栈顶的元素，头指针设置为新节点。\n",
    "                            # 即原栈顶后移，新元素成为栈顶。\n",
    "\n",
    "\n",
    "\n",
    "ls=LinkedStack()\n",
    "\n",
    "ls.push(1)\n",
    "ls.push(2)\n"
   ]
  },
  {
   "cell_type": "markdown",
   "metadata": {},
   "source": [
    "### 用数组实现一个顺序队列\n",
    "    队列是一种特殊的线性表，遵循“ 先进先出”的原则，操作在两端进行，插入元素的一端被称为队尾（real），删除元素的一端称为队头（front）。队头指针实际指向队头元素所在位置的前一个位置，队尾指针指向实际队尾元素所在位置。顺序队列中的元素恒为rear-front，其中队空的条件为front = rear;队满的条件为rear+1=MaxQueueSize。\n",
    "-----------------\n"
   ]
  },
  {
   "cell_type": "code",
   "execution_count": 27,
   "metadata": {},
   "outputs": [
    {
     "name": "stdout",
     "output_type": "stream",
     "text": [
      "请输入入队元素（回车确定，#结束）：5\n",
      "当前进队元素为： 5\n",
      "请输入入队元素（回车确定，#结束）：7\n",
      "当前进队元素为： 7\n",
      "请输入入队元素（回车确定，#结束）：3\n",
      "当前进队元素为： 3\n",
      "请输入入队元素（回车确定，#结束）：5\n",
      "当前进队元素为： 5\n",
      "请输入入队元素（回车确定，#结束）：4\n",
      "当前进队元素为： 4\n",
      "请输入入队元素（回车确定，#结束）：2\n",
      "当前进队元素为： 2\n",
      "请输入入队元素（回车确定，#结束）：5\n",
      "当前进队元素为： 5\n",
      "请输入入队元素（回车确定，#结束）：#\n",
      "顺序队列的元素为：\n",
      "5 7 3 5 4 2 5 "
     ]
    }
   ],
   "source": [
    "class SequenceQueue:\n",
    "    def __init__(self):\n",
    "        self.MaxQueueSize = 10\n",
    "        self.s = [None for x in range(0,self.MaxQueueSize)]\n",
    "        self.front = 0\n",
    "        self.rear = 0\n",
    "    '''当前队列是否为空'''\n",
    "    def IsEmptyQueue(self):\n",
    "        if self.front == self.rear:\n",
    "            iQueue = True\n",
    "        else:\n",
    "            iQueue = False  \n",
    "        return iQueue\n",
    "    '''元素进队'''\n",
    "    def EnQueue(self,x):\n",
    "        if self.rear < self.MaxQueueSize-1:\n",
    "            self.rear = self.rear+1\n",
    "            self.s[self.rear] = x\n",
    "            print(\"当前进队元素为：\",x)\n",
    "        else:\n",
    "            print(\"队列已满，无法入队\")\n",
    "            return\n",
    "    '''元素出队'''\n",
    "    def DeQueue(self):\n",
    "        if self.IsEmptyQueue():\n",
    "            print(\"队列为空\")\n",
    "            return\n",
    "        else:\n",
    "            self.front = self.front+1\n",
    "            return self.s[self.front]\n",
    "    '''获取队头元素'''\n",
    "    def  GetHead(self):\n",
    "        if self.IsEmptyQueue():\n",
    "            print(\"队列为空\")\n",
    "            return\n",
    "        else:\n",
    "            return self.s[self.front+1]\n",
    "    '''获取队列长度'''\n",
    "    def GetQueueLength(self):\n",
    "        return self.rear - self.front\n",
    "    '''创建队列'''\n",
    "    def CreateQueueByInput(self):\n",
    "        data = input(\"请输入入队元素（回车确定，#结束）：\")\n",
    "        while data != \"#\":\n",
    "            self.EnQueue(data)\n",
    "            data = input(\"请输入入队元素（回车确定，#结束）：\")\n",
    "    '''遍历顺序队列内的所有元素'''\n",
    "    def QueueTraverse(self):\n",
    "        if self.IsEmptyQueue():\n",
    "            print(\"队列为空\")\n",
    "            return\n",
    "        else:\n",
    "            i= self.front+1\n",
    "            while i < self.rear+1:\n",
    "                print(self.s[i],end = ' ')\n",
    "                i = i+1\n",
    "sq = SequenceQueue()\n",
    "sq.CreateQueueByInput()\n",
    "print(\"顺序队列的元素为：\")\n",
    "sq. QueueTraverse()\n"
   ]
  },
  {
   "cell_type": "markdown",
   "metadata": {},
   "source": [
    "### 用链表实现一个链式队列\n",
    "    对于普通顺序队列，可能队列提示已满，但其实队头还有空位置，这时候就可以考虑用循环顺序队列,把新元素放在队头的空闲位置。循环顺序队列中的元素恒为（rear-front+MaxQueueSize）%MaxQueueSize，其中队空的条件为front = rear;队满的条件为front = (rear+1)%MaxQueueSize。\n",
    "需要注意的是虽然如此，队头与队尾依旧还是front+1和rear位置，这就使得依旧是先进先出，没有违背原则。\n",
    "--------------------- \n"
   ]
  },
  {
   "cell_type": "markdown",
   "metadata": {},
   "source": [
    "### 实现一个循环队列"
   ]
  },
  {
   "cell_type": "code",
   "execution_count": 26,
   "metadata": {},
   "outputs": [
    {
     "name": "stdout",
     "output_type": "stream",
     "text": [
      "请输入入队元素（回车确定，#结束）：3\n",
      "当前进队元素为： 3\n",
      "请输入入队元素（回车确定，#结束）：6\n",
      "当前进队元素为： 6\n",
      "请输入入队元素（回车确定，#结束）：5\n",
      "当前进队元素为： 5\n",
      "请输入入队元素（回车确定，#结束）：3\n",
      "当前进队元素为： 3\n",
      "请输入入队元素（回车确定，#结束）：5 5  3\n",
      "当前进队元素为： 5 5  3\n",
      "请输入入队元素（回车确定，#结束）：#\n",
      "循环顺序队列长度为: 5\n",
      "当前进队元素为： 10\n",
      "循环顺序队列的元素为：\n",
      "6\n",
      "5\n",
      "3\n",
      "5 5  3\n",
      "10\n"
     ]
    }
   ],
   "source": [
    "class SequenceQueue():\n",
    "    def __init__(self):\n",
    "        self.MaxQueueSize = 10\n",
    "        self.s = [None for x in range(0,self.MaxQueueSize)]\n",
    "        self.front = 0\n",
    "        self.rear = 0\n",
    "    '''当前队列是否为空'''\n",
    "    def IsEmptyQueue(self):\n",
    "        if self.front == self.rear:\n",
    "            iQueue = True\n",
    "        else:\n",
    "            iQueue = False  \n",
    "        return iQueue\n",
    "    '''获取队头元素'''\n",
    "    def  GetHead(self):\n",
    "        if self.IsEmptyQueue():\n",
    "            print(\"队列为空\")\n",
    "            return\n",
    "        else:\n",
    "            return self.s[self.front+1]\n",
    "    '''获取队列长度'''\n",
    "    def GetQueueLength(self):\n",
    "        return (self.rear - self.front+self.MaxQueueSize) % self.MaxQueueSize\n",
    "    '''元素进队'''\n",
    "    def EnQueue(self,x):\n",
    "        if (self.rear+1)% self.MaxQueueSize != self.front:\n",
    "            self.rear = (self.rear+1)% self.MaxQueueSize\n",
    "            self.s[self.rear] = x\n",
    "            print(\"当前进队元素为：\",x)\n",
    "        else:\n",
    "            print(\"队列已满\")\n",
    "            return\n",
    "    '''元素出队'''   \n",
    "    def DeQueue(self):\n",
    "        if self.IsEmptyQueue():\n",
    "            print(\"队列为空\")\n",
    "        else:\n",
    "            self.front = (self.front+1)% self.MaxQueueSize\n",
    "            return self.s[self.front]\n",
    "    '''创建队列'''\n",
    "    def CreateQueueByInput(self):\n",
    "        data = input(\"请输入入队元素（回车确定，#结束）：\")\n",
    "        while data != \"#\":\n",
    "            self.EnQueue(data)\n",
    "            data = input(\"请输入入队元素（回车确定，#结束）：\")\n",
    "    '''遍历顺序队列内的所有元素'''\n",
    "    def QueueTraverse(self):\n",
    "        if self.IsEmptyQueue():\n",
    "            print(\"队列为空\")\n",
    "            return\n",
    "        else:\n",
    "            while self.front != self.rear:\n",
    "                result = self.DeQueue()\n",
    "                print(result)\n",
    "                \n",
    "if __name__ == '__main__':\n",
    "    sq = SequenceQueue()\n",
    "    sq.CreateQueueByInput()   #在此处输入8个数，最多可以放入最大值-2个元素\n",
    "    print(\"循环顺序队列长度为:\",sq.GetQueueLength())\n",
    "    sq.DeQueue()\n",
    "    sq.EnQueue(10)\n",
    "    print(\"循环顺序队列的元素为：\")\n",
    "    sq. QueueTraverse()\n"
   ]
  },
  {
   "cell_type": "markdown",
   "metadata": {},
   "source": [
    "### 编程实现斐波那契数列求值 f(n)=f(n-1)+f(n-2)\n",
    "    斐波那契数列（Fibonacci sequence），又称黄金分割数列、因数学家列昂纳多·斐波那契（Leonardoda Fibonacci）以兔子繁殖为例子而引入，故又称为“兔子数列”，指的是这样一个数列：1、1、2、3、5、8、13、21、34、……在数学上，斐波纳契数列以如下被以递归的方法定义：F(1)=1，F(2)=1, F(n)=F(n-1)+F(n-2)（n>=2，n∈N*）"
   ]
  },
  {
   "cell_type": "code",
   "execution_count": 28,
   "metadata": {},
   "outputs": [
    {
     "name": "stdout",
     "output_type": "stream",
     "text": [
      "1 2 3 5 8 13 21 34 55 89 144 233 377 610 987 1597 2584 4181 6765 "
     ]
    }
   ],
   "source": [
    "def fib(n):\n",
    "    assert n >= 0,\"n>0\"  #确认一下n>0\n",
    "    if n <= 1:\n",
    "        return 1\n",
    "    return fib(n-1) + fib(n-2)\n",
    "\n",
    "for i in range(1,20):\n",
    "    print(fib(i),end = ' ')"
   ]
  },
  {
   "cell_type": "markdown",
   "metadata": {},
   "source": [
    "### 编程实现求阶乘 n!"
   ]
  },
  {
   "cell_type": "code",
   "execution_count": 42,
   "metadata": {},
   "outputs": [
    {
     "name": "stdout",
     "output_type": "stream",
     "text": [
      "362880\n"
     ]
    }
   ],
   "source": [
    "def fun(n):\n",
    "    if n<1:\n",
    "        return 1\n",
    "    else:\n",
    "        return n*fun(n-1)\n",
    "#num = fun(int(raw_input()))\n",
    "num = fun(9)\n",
    "print(num)"
   ]
  },
  {
   "cell_type": "markdown",
   "metadata": {},
   "source": [
    "### 编程实现一组数据集合的全排列\n",
    "    排列：从n个元素中任取m个元素，并按照一定的顺序进行排列，称为排列；\n",
    "    全排列：当n==m时，称为全排列     大概是求子集？\n",
    "\n",
    "比如：集合{ 1,2,3}的全排列为：\n",
    "{ 1 2 3} \n",
    "{ 1 3 2 }\n",
    "{ 2 1 3 }\n",
    "{ 2 3 1 }\n",
    "{ 3 2 1 }\n",
    "{ 3 1 2 }\n",
    "\n",
    "递归思想：\n",
    "取出数组中第一个元素放到最后，即a[1]与a[n]交换，然后递归求a[n-1]的全排列\n",
    "\n",
    "1）如果数组只有一个元素n=1，a={1} 则全排列就是{1}\n",
    "2）如果数组有两个元素n=2，a={1,2} 则全排列是：\n",
    "{2,1}--a[1]与a[2]交换。交换后求a[2-1]={2}的全排列，归结到1)\n",
    "{1,2}--a[2]与a[2]交换。交换后求a[2-1]={1}的全排列，归结到1)\n",
    "3）如果数组有三个元素n=3，a={1,2,3} 则全排列是\n",
    "{{2,3},1}--a[1]与a[3]交换。后求a[3-1]={2,3}的全排列，归结到2）\n",
    "{{1,3},2)--a[2]与a[3]交换。后求a[3-1]={1,3}的全排列，归结到2）\n",
    "{{1,2},3)--a[3]与a[3]交换。后求a[3-1]={1,2}的全排列，归结到2）\n",
    "--------------------- \n"
   ]
  },
  {
   "cell_type": "code",
   "execution_count": 46,
   "metadata": {},
   "outputs": [
    {
     "name": "stdout",
     "output_type": "stream",
     "text": [
      "[1, 2, 3, 4]\n",
      "[1, 2, 4, 3]\n",
      "[1, 3, 2, 4]\n",
      "[1, 3, 4, 2]\n",
      "[1, 4, 3, 2]\n",
      "[1, 4, 2, 3]\n",
      "[2, 1, 3, 4]\n",
      "[2, 1, 4, 3]\n",
      "[2, 3, 1, 4]\n",
      "[2, 3, 4, 1]\n",
      "[2, 4, 3, 1]\n",
      "[2, 4, 1, 3]\n",
      "[3, 2, 1, 4]\n",
      "[3, 2, 4, 1]\n",
      "[3, 1, 2, 4]\n",
      "[3, 1, 4, 2]\n",
      "[3, 4, 1, 2]\n",
      "[3, 4, 2, 1]\n",
      "[4, 2, 3, 1]\n",
      "[4, 2, 1, 3]\n",
      "[4, 3, 2, 1]\n",
      "[4, 3, 1, 2]\n",
      "[4, 1, 3, 2]\n",
      "[4, 1, 2, 3]\n",
      "24\n"
     ]
    }
   ],
   "source": [
    "count = 0\n",
    "def perm(n,begin,end):\n",
    "    global count\n",
    "    if begin >= end:\n",
    "        print(n)\n",
    "        count += 1\n",
    "    else:\n",
    "        i = begin\n",
    "        for num in range(begin,end):\n",
    "            n[num],n[i] = n[i],n[num]\n",
    "            perm(n,begin+1,end)\n",
    "            n[num],n[i] = n[i],n[num]\n",
    "            \n",
    "n = [1,2,3,4]\n",
    "perm(n,0,len(n))\n",
    "print(count)"
   ]
  },
  {
   "cell_type": "markdown",
   "metadata": {},
   "source": [
    "### 水仙花数\n"
   ]
  },
  {
   "cell_type": "code",
   "execution_count": 36,
   "metadata": {},
   "outputs": [],
   "source": [
    "def ddd():\n",
    "    for n in range(100,1000):\n",
    "        i = n / 100\n",
    "        j = n / 10 % 10\n",
    "        k = n % 10\n",
    "        if n == i ** 3 + j ** 3 + k ** 3:\n",
    "            print(n)\n",
    "ddd()"
   ]
  },
  {
   "cell_type": "markdown",
   "metadata": {},
   "source": [
    "### 找素数"
   ]
  },
  {
   "cell_type": "code",
   "execution_count": null,
   "metadata": {},
   "outputs": [],
   "source": [
    "\n",
    "def find_prime(start_num, end_num):\n",
    "    '''找出start_num，与end_num之间的素数'''\n",
    "    def check_if_prime(num):\n",
    "        for i in range(2, num):\n",
    "            if num%i == 0:\n",
    "                return False\n",
    "        return True\n",
    "    for range_num in range(start_num, end_num):\n",
    "        if check_if_prime(range_num):\n"
   ]
  },
  {
   "cell_type": "code",
   "execution_count": null,
   "metadata": {},
   "outputs": [],
   "source": []
  },
  {
   "cell_type": "code",
   "execution_count": null,
   "metadata": {},
   "outputs": [],
   "source": []
  },
  {
   "cell_type": "code",
   "execution_count": null,
   "metadata": {},
   "outputs": [],
   "source": []
  }
 ],
 "metadata": {
  "kernelspec": {
   "display_name": "Python 3",
   "language": "python",
   "name": "python3"
  },
  "language_info": {
   "codemirror_mode": {
    "name": "ipython",
    "version": 3
   },
   "file_extension": ".py",
   "mimetype": "text/x-python",
   "name": "python",
   "nbconvert_exporter": "python",
   "pygments_lexer": "ipython3",
   "version": "3.7.1"
  }
 },
 "nbformat": 4,
 "nbformat_minor": 2
}
