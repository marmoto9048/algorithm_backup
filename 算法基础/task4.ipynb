{
 "cells": [
  {
   "cell_type": "markdown",
   "metadata": {},
   "source": [
    "## 【散列表（哈希表）】"
   ]
  },
  {
   "cell_type": "markdown",
   "metadata": {},
   "source": [
    "### 实现一个基于链表法解决冲突问题的散列表"
   ]
  },
  {
   "cell_type": "code",
   "execution_count": 7,
   "metadata": {},
   "outputs": [],
   "source": [
    "class MyDict:\n",
    "    def __init__(self, num=100): # 指定列表大小\n",
    "      self._num = num\n",
    "      self._lst = []\n",
    "      for _ in range(self._num):\n",
    "        self._lst.append([])\n",
    " \n",
    "    def update(self, key, value): # 添加 key-value\n",
    "      key_index = hash(key) % self._num\n",
    "      for i, (k, v) in enumerate(self._lst[key_index]):\n",
    "        if key == k:\n",
    "          self._lst[key_index][i] = [key, value]\n",
    "          break\n",
    "        else:\n",
    "          # 处理hash冲突的关键\n",
    "          self._lst[key_index].append([key, value])\n",
    " \n",
    "    def get(self, key): # 根据指定的 key 弹出值\n",
    "      key_index = hash(key) % self._num\n",
    "      for k, v in self._lst[key_index]:\n",
    "        if k == key:\n",
    "          return v\n",
    "        else:\n",
    "          raise KeyError('No such {} key'.format(key))\n",
    "   \n",
    "    def pop(self, key): # 根据 key 弹出元素 并且删除\n",
    "      key_index = hash(key) % self._num\n",
    "      for i, (k, v) in enumerate(self._lst[key_index]):\n",
    "        if k == key:\n",
    "          result = v\n",
    "          self._lst.pop(i)\n",
    "          return result\n",
    "      else:\n",
    "        raise KeyError('No such {} key'.format(key))\n",
    "   \n",
    "    def __getitem__(self, key): # 可以通过下标来取值\n",
    "      key_index = hash(key) % self._num\n",
    "      for k, v in self._lst[key_index]:\n",
    "        if k == key:\n",
    "          return v\n",
    "        else:\n",
    "          raise KeyError('No such {} key'.format(key))\n",
    "   \n",
    "    def keys(self): # 取得所有的key\n",
    "      for index in range(self._num):\n",
    "        for k, v in self._lst[index]:\n",
    "          yield k\n",
    "   \n",
    "    def values(self): # 取得所有的 value\n",
    "      for index in range(self._num):\n",
    "        for k, v in self._lst[index]:\n",
    "          yield v\n",
    "   \n",
    "    def items(self): # 取得所有的条目\n",
    "      for index in range(self._num):\n",
    "        for item in self._lst[index]:\n",
    "          yield item\n"
   ]
  },
  {
   "cell_type": "markdown",
   "metadata": {},
   "source": [
    "### 实现一个 LRU 缓存淘汰算法"
   ]
  },
  {
   "cell_type": "markdown",
   "metadata": {},
   "source": [
    "### LRU，最近最少使用，把数据加入一个链表中，按访问时间排序，发生淘汰的时候，把访问时间最旧的淘汰掉。"
   ]
  },
  {
   "cell_type": "markdown",
   "metadata": {},
   "source": [
    "### LRU，最近最少使用，把数据加入一个链表中，按访问时间排序，发生淘汰的时候，把访问时间最旧的淘汰掉。\n",
    "    \n",
    "### LFU，最近不经常使用，把数据加入到链表中，按频次排序，一个数据被访问过，把它的频次+1，发生淘汰的时候，把频次低的淘汰掉。   \n"
   ]
  },
  {
   "cell_type": "code",
   "execution_count": 8,
   "metadata": {},
   "outputs": [
    {
     "name": "stdout",
     "output_type": "stream",
     "text": [
      "2\n",
      "None\n",
      "None\n",
      "2\n"
     ]
    }
   ],
   "source": [
    "class LRUcache:\n",
    "    def __init__(self, size=3):\n",
    "        # 缓存大小固定为3\n",
    "        # keys 排名由顺序表示\n",
    "        self.cache = {}\n",
    "        self.keys = []\n",
    "        self.size = size\n",
    " \n",
    "    def get(self, key):\n",
    "        #取值\n",
    "        if key in self.cache:\n",
    "            self.keys.remove(key)\n",
    "            self.keys.insert(0, key)\n",
    "            return self.cache[key]\n",
    "        else:\n",
    "            return None\n",
    " \n",
    "    def set(self, key, value):\n",
    "        if key in self.cache:\n",
    "            self.keys.remove(key)\n",
    "            self.keys.insert(0, key)\n",
    "            self.cache[key] = value\n",
    "        elif len(self.keys) == self.size:\n",
    "            # 删除最老的元素\n",
    "            old = self.keys.pop()\n",
    "            self.cache.pop(old)\n",
    "            self.keys.insert(0, key)\n",
    "            self.cache[key] = value\n",
    "        else:\n",
    "            self.keys.insert(0, key)\n",
    "            self.cache[key] = value\n",
    " \n",
    "if __name__ == '__main__':\n",
    "    test = LRUcache()\n",
    "    test.set('a',2)\n",
    "    test.set('b',2)\n",
    "    test.set('c',2)\n",
    "    test.set('d',2)\n",
    "    test.set('e',2)\n",
    "    print(test.get('c'))           # 2\n",
    "    test.set('f',2)\n",
    "    print(test.get('b'))           # None\n",
    "    print(test.get('a'))           # None\n",
    "    print(test.get('e'))           # 2     只保留了后3个e,c,f的值\n"
   ]
  },
  {
   "cell_type": "markdown",
   "metadata": {},
   "source": [
    "## 【字符串】"
   ]
  },
  {
   "cell_type": "markdown",
   "metadata": {},
   "source": [
    "### 实现一个字符集，只包含 a～z 这 26 个英文字母的 Trie 树"
   ]
  },
  {
   "cell_type": "code",
   "execution_count": 23,
   "metadata": {},
   "outputs": [
    {
     "name": "stdout",
     "output_type": "stream",
     "text": [
      "{}\n",
      "curNode: {}\n",
      "{}\n",
      "curNode: {}\n",
      "{}\n",
      "curNode: {}\n",
      "{}\n",
      "curNode: {}\n",
      "{}\n",
      "curNode: {}\n",
      "{}\n",
      "curNode: {}\n",
      "{}\n",
      "curNode: {}\n",
      "{}\n",
      "curNode: {}\n",
      "单词插入完成\n",
      "这个单词已经在树里了\n",
      "这个单词带有给定的前缀 in\n"
     ]
    },
    {
     "data": {
      "text/plain": [
       "True"
      ]
     },
     "execution_count": 23,
     "metadata": {},
     "output_type": "execute_result"
    }
   ],
   "source": [
    "class Trie:\n",
    "    # word_end = -1\n",
    " \n",
    "    def __init__(self):\n",
    "        \"\"\"\n",
    "        初始化结构的树\n",
    "        \"\"\"\n",
    "        self.root = {}\n",
    "        self.word_end = -1\n",
    " \n",
    "    def insert(self, word):\n",
    "        \"\"\"\n",
    "        将数据插入树中\n",
    "        :type word: str\n",
    "        :rtype: void\n",
    "        \"\"\"\n",
    "        curNode = self.root\n",
    "        for c in word:\n",
    "            if not c in curNode:\n",
    "                curNode[c] = {}\n",
    "            print(curNode[c])\n",
    "            curNode = curNode[c]\n",
    "            print('curNode:',curNode)\n",
    "        print('单词插入完成')  \n",
    "        curNode[self.word_end] = True\n",
    " \n",
    "    def search(self, word):\n",
    "        \"\"\"\n",
    "        如果单词在树中，返回\n",
    "        :type word: str\n",
    "        :rtype: bool\n",
    "        \"\"\"\n",
    "        curNode = self.root\n",
    "        for c in word:\n",
    "            if not c in curNode:\n",
    "                return False\n",
    "            curNode = curNode[c]\n",
    "            \n",
    "        # Doesn't end here\n",
    "        if self.word_end not in curNode:\n",
    "            return False\n",
    "        print('这个单词已经在树里了')\n",
    "        return True\n",
    " \n",
    "    def startsWith(self, prefix):\n",
    "        \"\"\"\n",
    "        prefix : 前缀\n",
    "        如果有单词带有给定的前缀，则输出\n",
    "        :type prefix: str\n",
    "        :rtype: bool\n",
    "        \"\"\"\n",
    "        curNode = self.root\n",
    "        for c in prefix:\n",
    "            if not c in curNode:\n",
    "                return False\n",
    "            curNode = curNode[c]\n",
    "        print('这个单词带有给定的前缀',prefix)\n",
    "        return True\n",
    " \n",
    " \n",
    "# Your Trie object will be instantiated and called as such:\n",
    "word = 'infdhght'\n",
    "prefix = 'in'\n",
    "obj = Trie()\n",
    "obj.insert(word)\n",
    "param_2 = obj.search(word)\n",
    "param_3 = obj.startsWith(prefix)\n",
    "param_2\n",
    "param_3"
   ]
  },
  {
   "cell_type": "markdown",
   "metadata": {},
   "source": [
    "### 实现朴素的字符串匹配算法"
   ]
  },
  {
   "cell_type": "code",
   "execution_count": 24,
   "metadata": {},
   "outputs": [],
   "source": [
    "def stringMatch(str1,str2):\n",
    "    i = k = 0\n",
    "    startPos = i\n",
    "    len1 = len(str1)\n",
    "    len2 = len(str2)\n",
    "    flag = True\n",
    "    result = None\n",
    "    while flag:\n",
    "        i = startPos\n",
    "        while i < len1 and j < len2 and str1[i] == str2[j]:\n",
    "            i += 1\n",
    "            j += 1\n",
    "        if j == len2:\n",
    "            flag = False\n",
    "            result = startPos\n",
    "        else:\n",
    "            j = 0\n",
    "            startPos += 1\n",
    "        if i == len1:\n",
    "            flag = False\n",
    "            \n",
    "    return result"
   ]
  },
  {
   "cell_type": "code",
   "execution_count": null,
   "metadata": {},
   "outputs": [],
   "source": []
  },
  {
   "cell_type": "code",
   "execution_count": null,
   "metadata": {},
   "outputs": [],
   "source": []
  },
  {
   "cell_type": "code",
   "execution_count": null,
   "metadata": {},
   "outputs": [],
   "source": []
  }
 ],
 "metadata": {
  "kernelspec": {
   "display_name": "Python 3",
   "language": "python",
   "name": "python3"
  },
  "language_info": {
   "codemirror_mode": {
    "name": "ipython",
    "version": 3
   },
   "file_extension": ".py",
   "mimetype": "text/x-python",
   "name": "python",
   "nbconvert_exporter": "python",
   "pygments_lexer": "ipython3",
   "version": "3.7.1"
  }
 },
 "nbformat": 4,
 "nbformat_minor": 2
}
