{
 "cells": [
  {
   "cell_type": "markdown",
   "metadata": {},
   "source": [
    "### 二分查找"
   ]
  },
  {
   "cell_type": "markdown",
   "metadata": {},
   "source": [
    "#### 二分查找算法也称折半查找，基本思想就是折半，\n",
    "    和平时猜数字游戏一样，比如猜的数字时67，猜测范围是0-100，则会先猜测中间值50，\n",
    "    结果小了，所以就会从50-100猜测，中间值为75，\n",
    "    结果大了，又从50-75猜测中间值，一直到猜中为止。\n",
    "    因此，二分查找有一个限制就是原先数组需要是一个有序数组。"
   ]
  },
  {
   "cell_type": "code",
   "execution_count": null,
   "metadata": {},
   "outputs": [],
   "source": [
    "##二分查找算法\n",
    "def binarysearch(a, num):\n",
    "    length = len(a)\n",
    "    low = 0\n",
    "    high = length - 1\n",
    "    while low <= high:\n",
    "        mid = int(low + ((high - low) / 2)) ##使用(low+high)/2会有整数溢出的问题\n",
    "        if a[mid] < num:\n",
    "            low = mid + 1\n",
    "        elif a[mid] > num:\n",
    "            high = mid - 1\n",
    "        else:\n",
    "            return mid\n",
    "    return -1\n",
    " \n",
    " \n",
    "if __name__ == '__main__':\n",
    "    b = [1, 3, 4, 8, 22, 65, 73, 90]\n",
    "    print(b)\n",
    "    a = binarysearch(b, 22)\n",
    "    print(a)"
   ]
  },
  {
   "cell_type": "markdown",
   "metadata": {},
   "source": [
    "### 实现模糊二分查找算法（比如大于等于给定值的第一个元素）"
   ]
  },
  {
   "cell_type": "code",
   "execution_count": 3,
   "metadata": {},
   "outputs": [],
   "source": [
    "def bsearch(arr,low,high,k):\n",
    "    highTemp = high\n",
    "    while low <= high:\n",
    "        mid = (low + high) // 2\n",
    "        if arr[mid] == k:\n",
    "            while arr[mid-1] == k:\n",
    "                mid -= 1\n",
    "            return arr[mid],mid\n",
    "        elif arr[mid] < k:\n",
    "            low = mid + 1\n",
    "        else:\n",
    "            high = mid - 1\n",
    "    if high+1 < highTemp:\n",
    "        return arr[high+1],high+1\n",
    "    else:\n",
    "        return\n",
    "        "
   ]
  },
  {
   "cell_type": "markdown",
   "metadata": {},
   "source": [
    "### 实现Sqrt(x) （x 的平方根）"
   ]
  },
  {
   "cell_type": "code",
   "execution_count": 2,
   "metadata": {},
   "outputs": [
    {
     "name": "stdout",
     "output_type": "stream",
     "text": [
      "0\n",
      "0\n",
      "2\n",
      "0\n"
     ]
    }
   ],
   "source": [
    "def sqrt1(x):\n",
    "    if x == 1:\n",
    "        return 1\n",
    "    left = 0\n",
    "    right = x\n",
    "    while left+1 < right:\n",
    "        m = (right + left) / 2\n",
    "        if m**2 == x:\n",
    "            left = m\n",
    "        elif m ** 2 ==x:\n",
    "            return int(m)\n",
    "        else:\n",
    "            right = m\n",
    "            \n",
    "    if int(right) ** 2 <= x:\n",
    "        return int(right)\n",
    "    else:\n",
    "        return int(left)\n",
    "   \n",
    "\n",
    "print(sqrt1(9))\n",
    "print(sqrt1(0.7))\n",
    "print(sqrt1(4))\n",
    "print(sqrt1(11))\n",
    "\n"
   ]
  }
 ],
 "metadata": {
  "kernelspec": {
   "display_name": "Python 3",
   "language": "python",
   "name": "python3"
  },
  "language_info": {
   "codemirror_mode": {
    "name": "ipython",
    "version": 3
   },
   "file_extension": ".py",
   "mimetype": "text/x-python",
   "name": "python",
   "nbconvert_exporter": "python",
   "pygments_lexer": "ipython3",
   "version": "3.7.3"
  }
 },
 "nbformat": 4,
 "nbformat_minor": 2
}
