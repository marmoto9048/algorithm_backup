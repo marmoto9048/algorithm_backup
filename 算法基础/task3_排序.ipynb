{
 "cells": [
  {
   "cell_type": "markdown",
   "metadata": {},
   "source": [
    "### 归并排序"
   ]
  },
  {
   "cell_type": "markdown",
   "metadata": {},
   "source": [
    "该算法是采用分治法（Divide and Conquer）的一个非常典型的应用。\n",
    "\n",
    "分治法:\n",
    "\n",
    "分割：递归地把当前序列平均分割成两半。\n",
    "集成：在保持元素顺序的同时将上一步得到的子序列集成到一起（归并）。\n"
   ]
  },
  {
   "cell_type": "code",
   "execution_count": 13,
   "metadata": {},
   "outputs": [
    {
     "data": {
      "text/html": [
       "<img src=\"mergeSort.gif\" >\n"
      ],
      "text/plain": [
       "<IPython.core.display.HTML object>"
      ]
     },
     "metadata": {},
     "output_type": "display_data"
    }
   ],
   "source": [
    "%%html\n",
    "<img src=\"mergeSort.gif\" >"
   ]
  },
  {
   "cell_type": "code",
   "execution_count": 8,
   "metadata": {},
   "outputs": [
    {
     "name": "stdout",
     "output_type": "stream",
     "text": [
      "给定的数组\n",
      "12\n",
      "11\n",
      "13\n",
      "5\n",
      "6\n",
      "7\n",
      "\n",
      "\n",
      "排序后的数组\n",
      "5\n",
      "6\n",
      "7\n",
      "11\n",
      "12\n",
      "13\n"
     ]
    }
   ],
   "source": [
    "def merge(arr, l, m, r): \n",
    "    n1 = m - l + 1\n",
    "    n2 = r- m \n",
    "  \n",
    "    # 创建临时数组\n",
    "    L = [0] * (n1)\n",
    "    R = [0] * (n2)\n",
    "  \n",
    "    # 拷贝数据到临时数组 arrays L[] 和 R[] \n",
    "    for i in range(0 , n1): \n",
    "        L[i] = arr[l + i] \n",
    "  \n",
    "    for j in range(0 , n2): \n",
    "        R[j] = arr[m + 1 + j] \n",
    "  \n",
    "    # 归并临时数组到 arr[l..r] \n",
    "    i = 0     # 初始化第一个子数组的索引\n",
    "    j = 0     # 初始化第二个子数组的索引\n",
    "    k = l     # 初始归并子数组的索引\n",
    "  \n",
    "    while i < n1 and j < n2 : \n",
    "        if L[i] <= R[j]: \n",
    "            arr[k] = L[i] \n",
    "            i += 1\n",
    "        else: \n",
    "            arr[k] = R[j] \n",
    "            j += 1\n",
    "        k += 1\n",
    "  \n",
    "    # 拷贝 L[] 的保留元素\n",
    "    while i < n1: \n",
    "        arr[k] = L[i] \n",
    "        i += 1\n",
    "        k += 1\n",
    "  \n",
    "    # 拷贝 R[] 的保留元素\n",
    "    while j < n2: \n",
    "        arr[k] = R[j] \n",
    "        j += 1\n",
    "        k += 1\n",
    "  \n",
    "def mergeSort(arr,l,r): \n",
    "    if l < r: \n",
    "  \n",
    "        \n",
    "        m = int((l+(r-1))/2)\n",
    "  \n",
    "       \n",
    "        mergeSort(arr, l, m) \n",
    "        mergeSort(arr, m+1, r) \n",
    "        merge(arr, l, m, r) \n",
    "  \n",
    "  \n",
    "arr = [12, 11, 13, 5, 6, 7] \n",
    "n = len(arr) \n",
    "print (\"给定的数组\") \n",
    "for i in range(n): \n",
    "    print (\"%d\" %arr[i]), \n",
    "  \n",
    "mergeSort(arr,0,n-1) \n",
    "print (\"\\n\\n排序后的数组\") \n",
    "for i in range(n): \n",
    "    print (\"%d\" %arr[i])"
   ]
  },
  {
   "cell_type": "markdown",
   "metadata": {},
   "source": [
    "### 快速排序"
   ]
  },
  {
   "cell_type": "markdown",
   "metadata": {},
   "source": [
    "#### 快速排序使用分治法（Divide and conquer）策略来把一个序列（list）分为较小和较大的2个子序列，然后递归地排序两个子序列。\n",
    "\n",
    "    快排的基本思想是：\n",
    "        在序列中找一个划分值，通过一趟排序将未排序的序列排序成 独立的两个部分，\n",
    "        其中左边部分序列都比划分值小，\n",
    "        右边部分的序列比划分值大，此时划分值的位置已确认，\n",
    "        然后再对这两个序列按照同样的方法进行排序，从而达到整个序列都有序的目的。"
   ]
  },
  {
   "cell_type": "code",
   "execution_count": 14,
   "metadata": {
    "scrolled": false
   },
   "outputs": [
    {
     "data": {
      "text/html": [
       "<img src=\"quickSort.gif\" >\n"
      ],
      "text/plain": [
       "<IPython.core.display.HTML object>"
      ]
     },
     "metadata": {},
     "output_type": "display_data"
    }
   ],
   "source": [
    "%%html\n",
    "<img src=\"quickSort.gif\" >"
   ]
  },
  {
   "cell_type": "code",
   "execution_count": 30,
   "metadata": {},
   "outputs": [
    {
     "name": "stdout",
     "output_type": "stream",
     "text": [
      "[1, 4, 7, 8, 77, 11, 9, 6, 4]\n",
      "[1, 4, 7, 8, 77, 11, 9, 6, 7]\n",
      "[1, 4, 5, 7, 77, 11, 9, 6, 7]\n",
      "[1, 4, 5, 7, 77, 11, 9, 6, 77]\n",
      "[1, 4, 5, 7, 6, 11, 9, 6, 77]\n",
      "[1, 4, 5, 7, 6, 11, 9, 11, 77]\n",
      "[1, 4, 5, 6, 6, 8, 9, 11, 77]\n",
      "[1, 4, 5, 6, 7, 8, 9, 11, 77]\n"
     ]
    }
   ],
   "source": [
    "def quick_sort(nums,left,right):\n",
    "    if left < right:\n",
    "        j = right\n",
    "        i = left\n",
    "        pivot = nums[left]\n",
    "        while i != j:\n",
    "            while j > i and nums[j] > pivot:\n",
    "                j -= 1\n",
    "            if j > i:\n",
    "                nums[i] = nums[j]\n",
    "                i += 1\n",
    "                print(data)  \n",
    "            while i < j and nums[i] < pivot:\n",
    "                i += 1\n",
    "            if i < j:\n",
    "                nums[j] = nums[i]\n",
    "                j -= 1\n",
    "                print(data)  \n",
    "        nums[i] = pivot\n",
    "        quick_sort(nums, left, i-1)\n",
    "        quick_sort(nums, i+1, right)\n",
    "        \n",
    "# 测试代码\n",
    "import random\n",
    "data = [1,5,7,8,77,11,9,6,4]\n",
    "quick_sort(data, 0, (len(data) - 1))\n",
    "print(data)        "
   ]
  },
  {
   "cell_type": "markdown",
   "metadata": {},
   "source": [
    "### 插入排序"
   ]
  },
  {
   "cell_type": "code",
   "execution_count": 31,
   "metadata": {},
   "outputs": [
    {
     "data": {
      "text/html": [
       "<img src=\"insertionSort.gif\" >\n"
      ],
      "text/plain": [
       "<IPython.core.display.HTML object>"
      ]
     },
     "metadata": {},
     "output_type": "display_data"
    }
   ],
   "source": [
    "%%html\n",
    "<img src=\"insertionSort.gif\" >"
   ]
  },
  {
   "cell_type": "code",
   "execution_count": 33,
   "metadata": {},
   "outputs": [
    {
     "name": "stdout",
     "output_type": "stream",
     "text": [
      "排序后的数组:\n",
      "5\n",
      "6\n",
      "11\n",
      "12\n",
      "13\n"
     ]
    }
   ],
   "source": [
    "def insertionSort(arr):\n",
    "    for i in range(1,len(arr)):\n",
    "        key = arr[i]  #从后往前扫描的key，用来比较前一位是否大于key，是的话k\n",
    "        j = i - 1\n",
    "        while j >= 0 and key < arr[j]: #arr[i] < arr[j]\n",
    "            arr[j+1] = arr[j] #arr[j]后挪一位  \n",
    "            j -= 1     \n",
    "            arr[j+1] = key     #j前面腾出一个空位，让key进去\n",
    "            \n",
    "arr = [12, 11, 13, 5, 6] \n",
    "insertionSort(arr) \n",
    "print (\"排序后的数组:\") \n",
    "for i in range(len(arr)): \n",
    "    print (\"%d\" %arr[i])"
   ]
  },
  {
   "cell_type": "markdown",
   "metadata": {},
   "source": [
    "### 冒泡排序\n",
    "    它重复地走访过要排序的数列，一次比较两个元素，如果他们的顺序错误就把他们交换过来。走访数列的工作是重复地进行直到没有再需要交换，也就是说该数列已经排序完成。这个算法的名字由来是因为越小的元素会经由交换慢慢\"浮\"到数列的顶端。"
   ]
  },
  {
   "cell_type": "code",
   "execution_count": 34,
   "metadata": {
    "scrolled": true
   },
   "outputs": [
    {
     "data": {
      "text/html": [
       "<img src=\"bubbleSort.gif\" >\n"
      ],
      "text/plain": [
       "<IPython.core.display.HTML object>"
      ]
     },
     "metadata": {},
     "output_type": "display_data"
    }
   ],
   "source": [
    "%%html\n",
    "<img src=\"bubbleSort.gif\" >"
   ]
  },
  {
   "cell_type": "code",
   "execution_count": 37,
   "metadata": {},
   "outputs": [
    {
     "name": "stdout",
     "output_type": "stream",
     "text": [
      "排序后的数组:\n",
      "11\n",
      "12\n",
      "22\n",
      "25\n",
      "34\n",
      "64\n",
      "90\n"
     ]
    }
   ],
   "source": [
    "def bubbleSort(arr):\n",
    "    n = len(arr)\n",
    "    for i in range(n):\n",
    "        for j in range(0, n-i-1):\n",
    "            if arr[j] > arr[j+1]:\n",
    "                arr[j], arr[j+1] = arr[j+1],  arr[j]\n",
    "                \n",
    "arr = [64, 34, 25, 12, 22, 11, 90]\n",
    " \n",
    "bubbleSort(arr)\n",
    " \n",
    "print (\"排序后的数组:\")\n",
    "for i in range(len(arr)):\n",
    "    print (\"%d\" %arr[i])"
   ]
  },
  {
   "cell_type": "markdown",
   "metadata": {},
   "source": [
    "### 选择排序"
   ]
  },
  {
   "cell_type": "markdown",
   "metadata": {},
   "source": [
    "#### 首先在未排序序列中找到最小（大）元素，存放到排序序列的起始位置\n",
    "然后，再从剩余未排序元素中继续寻找最小（大）元素，然后放到已排序序列的末尾。\n",
    "以此类推，直到所有元素均排序完毕。"
   ]
  },
  {
   "cell_type": "code",
   "execution_count": 38,
   "metadata": {},
   "outputs": [
    {
     "data": {
      "text/html": [
       "<img src=\"selectionSort.gif\" >\n"
      ],
      "text/plain": [
       "<IPython.core.display.HTML object>"
      ]
     },
     "metadata": {},
     "output_type": "display_data"
    }
   ],
   "source": [
    "%%html\n",
    "<img src=\"selectionSort.gif\" >"
   ]
  },
  {
   "cell_type": "code",
   "execution_count": 45,
   "metadata": {},
   "outputs": [
    {
     "name": "stdout",
     "output_type": "stream",
     "text": [
      "[64, 25, 22, 12, 11]\n",
      "[11, 12, 22, 25, 64]\n"
     ]
    }
   ],
   "source": [
    "#待排序数组arr，排序方式order>0升序，order<0降序\n",
    "def selectSort(arr,order):\n",
    "    rorder = len(arr)\n",
    "    for i in range(0,rorder):\n",
    "        p = i\n",
    "        j = i +1\n",
    "        while(j<rorder):\n",
    "            if ((arr[p]>arr[j]) and (int(order)>0)) or ((arr[p] < arr[j]) and (int(order)<0)):\n",
    "                p = j\n",
    "            j += 1\n",
    "        arr[i],arr[p] = arr[p],arr[i]\n",
    "        i += 1\n",
    "    return arr\n",
    "\n",
    "A = [64, 25, 12, 22, 11] \n",
    "print(selectSort(A, -1))\n",
    "print(selectSort(A, 1))"
   ]
  },
  {
   "cell_type": "markdown",
   "metadata": {},
   "source": [
    "### 堆排序"
   ]
  },
  {
   "cell_type": "code",
   "execution_count": 46,
   "metadata": {},
   "outputs": [
    {
     "data": {
      "text/html": [
       "<img src=\"heapSort.gif\" >\n"
      ],
      "text/plain": [
       "<IPython.core.display.HTML object>"
      ]
     },
     "metadata": {},
     "output_type": "display_data"
    }
   ],
   "source": [
    "%%html\n",
    "<img src=\"heapSort.gif\" >"
   ]
  },
  {
   "cell_type": "markdown",
   "metadata": {},
   "source": [
    "#### 将初始序列按照顺序写出其完全二叉树形式，\n",
    "\n",
    "对所有的非叶子节点从下往上，从右往左依次做调整（要求以其为根结点的二叉树也是大顶堆），\n",
    "\n",
    "建堆完毕；此时根结点为最大值，\n",
    "\n",
    "将其与最后一个结点交换，则最大值到达其最终位置，\n",
    "\n",
    "之后继续对二叉树剩下的结点做同样的调整（此时只有刚换上去的根结点需要调整）"
   ]
  },
  {
   "cell_type": "code",
   "execution_count": 1,
   "metadata": {},
   "outputs": [],
   "source": [
    "def adjust(arr, low, high):\n",
    "    # 向下调整k位置上的结点\n",
    "    i = low; j = 2*i;\n",
    "    temp = arr[low]\n",
    "    while i <= j and j < high:\n",
    "        if arr[j] < arr[j+1]:         # 将左右结点中最大的结点当做arr[j]\n",
    "            j += 1\n",
    "        if arr[j] > temp:\n",
    "            arr[i] = arr[j]\n",
    "            i = j; j = 2*i            # 循环做对下一个根结点的调整\n",
    "        else:\n",
    "            break\n",
    "    arr[i] = temp       # 存于最终位置\n",
    "    \n",
    "def heapSort(arr):\n",
    "    length = len(arr)\n",
    "    for i in range(length//2,-1,-1):    # 建堆\n",
    "        adjust(arr, i ,length-1)\n",
    "        \n",
    "    # 将根结点与每一趟的最后一个结点交换,再调整\n",
    "    for index in range(length-1, -1, -1):    \n",
    "        arr[index], arr[0] = arr[0], arr[index]   # 该趟最大值已到最终位置\n",
    "        adjust(arr, 0, index-1)                  # 新一轮的调整\n"
   ]
  },
  {
   "cell_type": "markdown",
   "metadata": {},
   "source": [
    "### 返回滑动窗口中的最大值(239)"
   ]
  },
  {
   "cell_type": "code",
   "execution_count": null,
   "metadata": {},
   "outputs": [],
   "source": []
  },
  {
   "cell_type": "markdown",
   "metadata": {},
   "source": [
    "### O(n) 时间复杂度内找到一组数据的第 K 大元素"
   ]
  },
  {
   "cell_type": "code",
   "execution_count": null,
   "metadata": {},
   "outputs": [],
   "source": []
  },
  {
   "cell_type": "code",
   "execution_count": null,
   "metadata": {},
   "outputs": [],
   "source": []
  },
  {
   "cell_type": "code",
   "execution_count": null,
   "metadata": {},
   "outputs": [],
   "source": []
  },
  {
   "cell_type": "code",
   "execution_count": null,
   "metadata": {},
   "outputs": [],
   "source": []
  },
  {
   "cell_type": "code",
   "execution_count": null,
   "metadata": {},
   "outputs": [],
   "source": []
  }
 ],
 "metadata": {
  "kernelspec": {
   "display_name": "Python 3",
   "language": "python",
   "name": "python3"
  },
  "language_info": {
   "codemirror_mode": {
    "name": "ipython",
    "version": 3
   },
   "file_extension": ".py",
   "mimetype": "text/x-python",
   "name": "python",
   "nbconvert_exporter": "python",
   "pygments_lexer": "ipython3",
   "version": "3.7.3"
  }
 },
 "nbformat": 4,
 "nbformat_minor": 2
}
