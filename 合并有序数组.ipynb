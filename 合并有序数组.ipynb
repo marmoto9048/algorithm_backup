{
 "cells": [
  {
   "cell_type": "raw",
   "metadata": {},
   "source": []
  },
  {
   "cell_type": "raw",
   "metadata": {},
   "source": []
  },
  {
   "cell_type": "code",
   "execution_count": 23,
   "metadata": {},
   "outputs": [
    {
     "name": "stdout",
     "output_type": "stream",
     "text": [
      "这里添加了list1 3 1\n",
      "这里添加了list2 2 0\n",
      "这里添加了list1 4 2\n",
      "这里添加了list1 6 3\n",
      "这里添加了list2 5 1\n",
      "这里添加了list1 7 4\n",
      "这里添加了list2 6 2\n",
      "这里添加了list1 78 5\n",
      "这里添加了list2 8 3\n",
      "这里添加了list2 10 4\n",
      "这里添加了list2 12 5\n",
      "这里添加了list2 14 6\n",
      "这里添加了list2 16 7\n",
      "这里添加了list2 18 8\n",
      "这里添加了list11 78 5\n",
      "这里添加了list11 97 6\n",
      "这里添加了list11 190 7\n",
      "[1, 2, 3, 4, 5, 6, 6, 7, 8, 10, 12, 14, 16, 18, 78, 97, 190]\n"
     ]
    }
   ],
   "source": [
    "list1 = [1,3,4,6,7,78,97,190]\n",
    "list2 = [2,5,6,8,10,12,14,16,18]\n",
    "i = j = 0\n",
    "res = []\n",
    "while len(list1)>=i+1 and len(list2)>=j+1:\n",
    "    if list1[i]<=list2[j]:\n",
    "        res.append(list1[i])\n",
    "        i +=1\n",
    "        print('这里添加了list1',list1[i],i)\n",
    "    else:\n",
    "        res.append(list2[j])\n",
    "        print('这里添加了list2',list2[j],j)\n",
    "        j+=1\n",
    "while len(list1)>i:\n",
    "    res.append(list1[i])\n",
    "    print('这里添加了list11',list1[i],i)\n",
    "    i+=1\n",
    "while len(list2)>j:\n",
    "    res.append(list2[j])\n",
    "    print('这里添加了list22',list2[j],j)\n",
    "    j+=1\n",
    "    \n",
    "print(res)"
   ]
  }
 ],
 "metadata": {
  "kernelspec": {
   "display_name": "Python 3",
   "language": "python",
   "name": "python3"
  },
  "language_info": {
   "codemirror_mode": {
    "name": "ipython",
    "version": 3
   },
   "file_extension": ".py",
   "mimetype": "text/x-python",
   "name": "python",
   "nbconvert_exporter": "python",
   "pygments_lexer": "ipython3",
   "version": "3.7.1"
  }
 },
 "nbformat": 4,
 "nbformat_minor": 2
}
