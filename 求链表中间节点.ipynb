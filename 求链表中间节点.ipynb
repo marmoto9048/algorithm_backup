{
 "cells": [
  {
   "cell_type": "code",
   "execution_count": 28,
   "metadata": {},
   "outputs": [
    {
     "name": "stdout",
     "output_type": "stream",
     "text": [
      "node6\n"
     ]
    }
   ],
   "source": [
    "class Node:\n",
    "    def __init__(self,data,next):\n",
    "        self.data  = data\n",
    "        self.next = next\n",
    "z = Node('node1',None)\n",
    "a = Node('node2',z)\n",
    "b = Node('node3',a)\n",
    "c = Node('node4',b)\n",
    "d = Node('node5',c)\n",
    "e = Node('node6',d)\n",
    "f = Node('node7',e)\n",
    "g = Node('node6',f)\n",
    "h = Node('node7',g)\n",
    "i = Node('node6',h)\n",
    "j = Node('node7',i)\n",
    "p1 = i\n",
    "p2 = i\n",
    "while p2.next is not None and p2.next.next is not None:  #不为空\n",
    "    p1 = p1.next #p1每次走一步\n",
    "    p2 = p2.next.next #p2每次走两步              当p2走到头的时候p1走了一半\n",
    "print(p1.data)\n",
    "\n",
    "\n"
   ]
  }
 ],
 "metadata": {
  "kernelspec": {
   "display_name": "Python 3",
   "language": "python",
   "name": "python3"
  },
  "language_info": {
   "codemirror_mode": {
    "name": "ipython",
    "version": 3
   },
   "file_extension": ".py",
   "mimetype": "text/x-python",
   "name": "python",
   "nbconvert_exporter": "python",
   "pygments_lexer": "ipython3",
   "version": "3.7.1"
  }
 },
 "nbformat": 4,
 "nbformat_minor": 2
}
