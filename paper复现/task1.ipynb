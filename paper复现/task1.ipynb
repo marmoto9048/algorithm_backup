{
 "cells": [
  {
   "cell_type": "markdown",
   "metadata": {},
   "source": [
    "### 一、研读期间笔记"
   ]
  },
  {
   "cell_type": "markdown",
   "metadata": {},
   "source": [
    "#### 研究动机"
   ]
  },
  {
   "cell_type": "markdown",
   "metadata": {},
   "source": [
    "#### \n",
    "这些方法只根据最相关的段落提取答案，这将丢失图1中包含的大量丰富信息：\n",
    "\n",
    "我们模型的概述。对于问题'都柏林的首都是什么？'，\n",
    "\n",
    "我们的段落选择器选择两个段落p1和p3，它们实际上对应于检索段落的问题。\n",
    "然后我们的段落阅读器从所有选定的段落中提取正确答案“都柏林”（红色）。\n",
    "\n",
    "最后，我们的系统汇总了提取的结果并获得了最终答案。\n",
    "\n",
    "这些被忽略的段落。事实上，在多个段落中经常提到正确的答案，问题的不同方面可以在几个段落中回答。\n",
    "\n",
    "因此，Wanget al。 （2018b）建议进一步明确地汇总来自不同段落的证据以重新排列提取的答案。然而，重新排名的方法仍然依赖于现有DS-QA系统所获得的答案，并且未能大大解决DS-QA的噪声问题。"
   ]
  },
  {
   "cell_type": "markdown",
   "metadata": {},
   "source": [
    "#### 研究方法"
   ]
  },
  {
   "cell_type": "markdown",
   "metadata": {},
   "source": [
    "#### \n",
    "为了解决这些问题，我们提出了一种用于DS-QA的粗略精细去噪模型。如图1所示，我们的系统首先根据来自大规模语料库信息检索的问题检索段落。在此之后，为了利用所有信息段落，我们采用快速段落选择器来浏览所有检索到的段落并过滤掉那些嘈杂的段落。然后我们应用一个精确的段落阅读器来仔细阅读所选段落以提取答案。最后，我们汇总所有选定段落的派生结果以获得最终答案。在我们的方法中，我们的段落选择器的快速浏览和段落阅读器的强化阅读使得DS-QA能够对噪声段落进行去噪以及保持效率。"
   ]
  },
  {
   "cell_type": "markdown",
   "metadata": {},
   "source": [
    "#### 实验结果"
   ]
  },
  {
   "cell_type": "markdown",
   "metadata": {},
   "source": [
    "#### \n",
    "对包括Quasar-T，SearchQA和TriviaQAshow在内的真实数据集的实验结果表明我们的系统实现了显着且一致的通过汇总所有信息段落的提取答案，与所有基线方法相比有所改进。特别是，我们通过选择一些信息性段落表明我们的模型可以达到相当的性能，这大大加快了整个DS-QA系统的速度。"
   ]
  },
  {
   "cell_type": "markdown",
   "metadata": {},
   "source": [
    "#### 创新点"
   ]
  },
  {
   "cell_type": "markdown",
   "metadata": {},
   "source": [
    "#### 如图1所示，我们的模型包含两部分：\n",
    "\n",
    "1。段落选择器。考虑到问题Q和检索到的段落P，段落图选择器测量所有检索到的段落的概率分布pr（pi q，p），\n",
    "用于选择真正包含问题Q.2答案的段落。\n",
    "\n",
    "2.段落阅读器。给出问题q和段落pi，段落阅读器计算通过多层长期短期记忆网络工作提取答案a的概率pr（a_q，pi）。总的来说，提取给定问题q的概率pr（a_q，p）可以计算为：pr（a_q，p）=xpi∈p pr（a_q，pi）pr（pi_q，p）。"
   ]
  },
  {
   "cell_type": "markdown",
   "metadata": {},
   "source": [
    "#### 用于对照的baseline模型：\n",
    "（1）GA（Dhingra等人，2017a），一个在段落上执行多跳的阅读理解模型，带有选通注意机制；（2）BIDAF（SEO等人，2017），一个具有双向ATT的阅读理解模型。常规流量网络。\n",
    "（2）aqa（buck等人，2017），一个学习重写问题和聚合重写问题产生的答案的增强系统；\n",
    "（3）r3（wang等人，2018a），一个利用Ranker选择最自信段落来训练阅读理解模型的增强模型。"
   ]
  },
  {
   "cell_type": "markdown",
   "metadata": {},
   "source": [
    "#### 个人点评"
   ]
  },
  {
   "cell_type": "code",
   "execution_count": null,
   "metadata": {},
   "outputs": [],
   "source": [
    "太菜了复现不出，还在看作者的源码"
   ]
  },
  {
   "cell_type": "markdown",
   "metadata": {},
   "source": [
    "### 二、论文复现期间工作"
   ]
  },
  {
   "cell_type": "code",
   "execution_count": null,
   "metadata": {},
   "outputs": [],
   "source": []
  },
  {
   "cell_type": "code",
   "execution_count": null,
   "metadata": {},
   "outputs": [],
   "source": []
  },
  {
   "cell_type": "code",
   "execution_count": null,
   "metadata": {},
   "outputs": [],
   "source": []
  },
  {
   "cell_type": "code",
   "execution_count": null,
   "metadata": {},
   "outputs": [],
   "source": []
  },
  {
   "cell_type": "code",
   "execution_count": null,
   "metadata": {},
   "outputs": [],
   "source": []
  },
  {
   "cell_type": "code",
   "execution_count": null,
   "metadata": {},
   "outputs": [],
   "source": []
  },
  {
   "cell_type": "code",
   "execution_count": null,
   "metadata": {},
   "outputs": [],
   "source": []
  },
  {
   "cell_type": "code",
   "execution_count": null,
   "metadata": {},
   "outputs": [],
   "source": []
  },
  {
   "cell_type": "code",
   "execution_count": null,
   "metadata": {},
   "outputs": [],
   "source": []
  },
  {
   "cell_type": "code",
   "execution_count": null,
   "metadata": {},
   "outputs": [],
   "source": []
  }
 ],
 "metadata": {
  "kernelspec": {
   "display_name": "Python 3",
   "language": "python",
   "name": "python3"
  },
  "language_info": {
   "codemirror_mode": {
    "name": "ipython",
    "version": 3
   },
   "file_extension": ".py",
   "mimetype": "text/x-python",
   "name": "python",
   "nbconvert_exporter": "python",
   "pygments_lexer": "ipython3",
   "version": "3.7.1"
  }
 },
 "nbformat": 4,
 "nbformat_minor": 2
}
