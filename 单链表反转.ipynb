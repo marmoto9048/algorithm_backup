{
 "cells": [
  {
   "cell_type": "code",
   "execution_count": 6,
   "metadata": {},
   "outputs": [],
   "source": []
  },
  {
   "cell_type": "code",
   "execution_count": 17,
   "metadata": {},
   "outputs": [
    {
     "name": "stdout",
     "output_type": "stream",
     "text": [
      "9\n",
      "8\n",
      "7\n",
      "6\n",
      "5\n",
      "4\n",
      "3\n",
      "2\n",
      "1\n"
     ]
    }
   ],
   "source": [
    "class Node:                                  #先定义一个节点\n",
    "    def __init__(self,data=None,next = None):\n",
    "        self.data = data\n",
    "        self.next = next\n",
    "        \n",
    "def reverse(link):  #将输入的单链表翻转\n",
    "    pre = link\n",
    "    cur = link.next #将链表的第二个节点保存在cur\n",
    "    pre.next = None   #原先链表的头结点变成了新链表的尾节点\n",
    "    while cur:\n",
    "        temp = cur.next\n",
    "        cur.next = pre\n",
    "        pre = cur\n",
    "        cur = temp \n",
    "    return pre\n",
    "\n",
    "if __name__ == '__main__':\n",
    "    link = Node(1, Node(2, Node(3, Node(4, Node(5, Node(6, Node(7, Node(8, Node(9)))))))))\n",
    "    root = reverse(link)\n",
    "    while root:\n",
    "        print(root.data)\n",
    "        root =root.next   "
   ]
  }
 ],
 "metadata": {
  "kernelspec": {
   "display_name": "Python 3",
   "language": "python",
   "name": "python3"
  },
  "language_info": {
   "codemirror_mode": {
    "name": "ipython",
    "version": 3
   },
   "file_extension": ".py",
   "mimetype": "text/x-python",
   "name": "python",
   "nbconvert_exporter": "python",
   "pygments_lexer": "ipython3",
   "version": "3.7.1"
  }
 },
 "nbformat": 4,
 "nbformat_minor": 2
}
